{
 "cells": [
  {
   "cell_type": "code",
   "execution_count": 1,
   "id": "a781ab21",
   "metadata": {
    "_cell_guid": "b1076dfc-b9ad-4769-8c92-a6c4dae69d19",
    "_uuid": "8f2839f25d086af736a60e9eeb907d3b93b6e0e5",
    "execution": {
     "iopub.execute_input": "2024-10-19T20:41:49.691859Z",
     "iopub.status.busy": "2024-10-19T20:41:49.691472Z",
     "iopub.status.idle": "2024-10-19T20:41:50.469852Z",
     "shell.execute_reply": "2024-10-19T20:41:50.468949Z"
    },
    "papermill": {
     "duration": 0.790781,
     "end_time": "2024-10-19T20:41:50.472079",
     "exception": false,
     "start_time": "2024-10-19T20:41:49.681298",
     "status": "completed"
    },
    "tags": []
   },
   "outputs": [
    {
     "name": "stdout",
     "output_type": "stream",
     "text": [
      "/kaggle/input/cifar-10/trainLabels.csv\n",
      "/kaggle/input/cifar-10/sampleSubmission.csv\n",
      "/kaggle/input/cifar-10/test.7z\n",
      "/kaggle/input/cifar-10/train.7z\n"
     ]
    }
   ],
   "source": [
    "# This Python 3 environment comes with many helpful analytics libraries installed\n",
    "# It is defined by the kaggle/python Docker image: https://github.com/kaggle/docker-python\n",
    "# For example, here's several helpful packages to load\n",
    "\n",
    "import numpy as np # linear algebra\n",
    "import pandas as pd # data processing, CSV file I/O (e.g. pd.read_csv)\n",
    "\n",
    "# Input data files are available in the read-only \"../input/\" directory\n",
    "# For example, running this (by clicking run or pressing Shift+Enter) will list all files under the input directory\n",
    "\n",
    "import os\n",
    "for dirname, _, filenames in os.walk('/kaggle/input'):\n",
    "    for filename in filenames:\n",
    "        print(os.path.join(dirname, filename))\n",
    "\n",
    "# You can write up to 20GB to the current directory (/kaggle/working/) that gets preserved as output when you create a version using \"Save & Run All\" \n",
    "# You can also write temporary files to /kaggle/temp/, but they won't be saved outside of the current session"
   ]
  },
  {
   "cell_type": "code",
   "execution_count": 2,
   "id": "a38692c4",
   "metadata": {
    "execution": {
     "iopub.execute_input": "2024-10-19T20:41:50.491612Z",
     "iopub.status.busy": "2024-10-19T20:41:50.490696Z",
     "iopub.status.idle": "2024-10-19T20:41:53.832483Z",
     "shell.execute_reply": "2024-10-19T20:41:53.831579Z"
    },
    "papermill": {
     "duration": 3.35401,
     "end_time": "2024-10-19T20:41:53.834904",
     "exception": false,
     "start_time": "2024-10-19T20:41:50.480894",
     "status": "completed"
    },
    "tags": []
   },
   "outputs": [],
   "source": [
    "import torch\n",
    "import pandas as pd\n",
    "import numpy as np\n",
    "import random\n",
    "\n",
    "random.seed(0)\n",
    "np.random.seed(0)\n",
    "torch.cuda.manual_seed(0)\n",
    "torch.backends.cudnn.deterministic = True"
   ]
  },
  {
   "cell_type": "code",
   "execution_count": 3,
   "id": "0c5f332e",
   "metadata": {
    "execution": {
     "iopub.execute_input": "2024-10-19T20:41:53.858844Z",
     "iopub.status.busy": "2024-10-19T20:41:53.857847Z",
     "iopub.status.idle": "2024-10-19T20:42:02.552876Z",
     "shell.execute_reply": "2024-10-19T20:42:02.551882Z"
    },
    "papermill": {
     "duration": 8.708769,
     "end_time": "2024-10-19T20:42:02.555159",
     "exception": false,
     "start_time": "2024-10-19T20:41:53.846390",
     "status": "completed"
    },
    "tags": []
   },
   "outputs": [
    {
     "name": "stdout",
     "output_type": "stream",
     "text": [
      "Downloading https://www.cs.toronto.edu/~kriz/cifar-10-python.tar.gz to ./cifar-10-python.tar.gz\n"
     ]
    },
    {
     "name": "stderr",
     "output_type": "stream",
     "text": [
      "100%|██████████| 170498071/170498071 [00:03<00:00, 49204476.70it/s]\n"
     ]
    },
    {
     "name": "stdout",
     "output_type": "stream",
     "text": [
      "Extracting ./cifar-10-python.tar.gz to ./\n",
      "Files already downloaded and verified\n"
     ]
    }
   ],
   "source": [
    "import torchvision.datasets\n",
    "\n",
    "CIFAR10_train=torchvision.datasets.CIFAR10(root='./', train=True, download=True)\n",
    "CIFAR10_test=torchvision.datasets.CIFAR10(root='./', train=False, download=True)"
   ]
  },
  {
   "cell_type": "code",
   "execution_count": 4,
   "id": "fdd64ea9",
   "metadata": {
    "execution": {
     "iopub.execute_input": "2024-10-19T20:42:02.579152Z",
     "iopub.status.busy": "2024-10-19T20:42:02.578248Z",
     "iopub.status.idle": "2024-10-19T20:42:02.582963Z",
     "shell.execute_reply": "2024-10-19T20:42:02.582060Z"
    },
    "papermill": {
     "duration": 0.018565,
     "end_time": "2024-10-19T20:42:02.584922",
     "exception": false,
     "start_time": "2024-10-19T20:42:02.566357",
     "status": "completed"
    },
    "tags": []
   },
   "outputs": [],
   "source": [
    "X_train = CIFAR10_train.data\n",
    "y_train = CIFAR10_train.targets\n",
    "X_test = CIFAR10_test.data\n",
    "y_test = CIFAR10_test.targets"
   ]
  },
  {
   "cell_type": "code",
   "execution_count": 5,
   "id": "e2314c9d",
   "metadata": {
    "execution": {
     "iopub.execute_input": "2024-10-19T20:42:02.607701Z",
     "iopub.status.busy": "2024-10-19T20:42:02.607403Z",
     "iopub.status.idle": "2024-10-19T20:42:02.611536Z",
     "shell.execute_reply": "2024-10-19T20:42:02.610746Z"
    },
    "papermill": {
     "duration": 0.017446,
     "end_time": "2024-10-19T20:42:02.613273",
     "exception": false,
     "start_time": "2024-10-19T20:42:02.595827",
     "status": "completed"
    },
    "tags": []
   },
   "outputs": [],
   "source": [
    "X_train = np.moveaxis(X_train, 3, 1)\n",
    "X_test = np.moveaxis(X_test, 3, 1)"
   ]
  },
  {
   "cell_type": "code",
   "execution_count": 6,
   "id": "83a534db",
   "metadata": {
    "execution": {
     "iopub.execute_input": "2024-10-19T20:42:02.636357Z",
     "iopub.status.busy": "2024-10-19T20:42:02.635425Z",
     "iopub.status.idle": "2024-10-19T20:42:02.642332Z",
     "shell.execute_reply": "2024-10-19T20:42:02.641531Z"
    },
    "papermill": {
     "duration": 0.020172,
     "end_time": "2024-10-19T20:42:02.644186",
     "exception": false,
     "start_time": "2024-10-19T20:42:02.624014",
     "status": "completed"
    },
    "tags": []
   },
   "outputs": [
    {
     "data": {
      "text/plain": [
       "(50000, 3, 32, 32)"
      ]
     },
     "execution_count": 6,
     "metadata": {},
     "output_type": "execute_result"
    }
   ],
   "source": [
    "X_train.shape"
   ]
  },
  {
   "cell_type": "code",
   "execution_count": 7,
   "id": "4d122bba",
   "metadata": {
    "execution": {
     "iopub.execute_input": "2024-10-19T20:42:02.667278Z",
     "iopub.status.busy": "2024-10-19T20:42:02.666621Z",
     "iopub.status.idle": "2024-10-19T20:42:02.670658Z",
     "shell.execute_reply": "2024-10-19T20:42:02.669846Z"
    },
    "papermill": {
     "duration": 0.017436,
     "end_time": "2024-10-19T20:42:02.672480",
     "exception": false,
     "start_time": "2024-10-19T20:42:02.655044",
     "status": "completed"
    },
    "tags": []
   },
   "outputs": [],
   "source": [
    "def normalize_images(x):\n",
    "    x_norm = x.astype(np.float32)\n",
    "    return x_norm/255"
   ]
  },
  {
   "cell_type": "code",
   "execution_count": 8,
   "id": "ac47358c",
   "metadata": {
    "execution": {
     "iopub.execute_input": "2024-10-19T20:42:02.695301Z",
     "iopub.status.busy": "2024-10-19T20:42:02.694837Z",
     "iopub.status.idle": "2024-10-19T20:42:03.096707Z",
     "shell.execute_reply": "2024-10-19T20:42:03.095662Z"
    },
    "papermill": {
     "duration": 0.415714,
     "end_time": "2024-10-19T20:42:03.098992",
     "exception": false,
     "start_time": "2024-10-19T20:42:02.683278",
     "status": "completed"
    },
    "tags": []
   },
   "outputs": [],
   "source": [
    "X_train = normalize_images(X_train)\n",
    "X_test = normalize_images(X_test)"
   ]
  },
  {
   "cell_type": "code",
   "execution_count": 9,
   "id": "dc770305",
   "metadata": {
    "execution": {
     "iopub.execute_input": "2024-10-19T20:42:03.123055Z",
     "iopub.status.busy": "2024-10-19T20:42:03.122417Z",
     "iopub.status.idle": "2024-10-19T20:42:03.160432Z",
     "shell.execute_reply": "2024-10-19T20:42:03.159543Z"
    },
    "papermill": {
     "duration": 0.052171,
     "end_time": "2024-10-19T20:42:03.162484",
     "exception": false,
     "start_time": "2024-10-19T20:42:03.110313",
     "status": "completed"
    },
    "tags": []
   },
   "outputs": [],
   "source": [
    "X_train = torch.from_numpy(X_train)\n",
    "y_train = torch.as_tensor(y_train)\n",
    "X_test = torch.from_numpy(X_test)\n",
    "y_test = torch.as_tensor(y_test)"
   ]
  },
  {
   "cell_type": "code",
   "execution_count": 10,
   "id": "fd0e66fa",
   "metadata": {
    "execution": {
     "iopub.execute_input": "2024-10-19T20:42:03.186166Z",
     "iopub.status.busy": "2024-10-19T20:42:03.185548Z",
     "iopub.status.idle": "2024-10-19T20:42:03.192926Z",
     "shell.execute_reply": "2024-10-19T20:42:03.192046Z"
    },
    "papermill": {
     "duration": 0.021429,
     "end_time": "2024-10-19T20:42:03.194887",
     "exception": false,
     "start_time": "2024-10-19T20:42:03.173458",
     "status": "completed"
    },
    "tags": []
   },
   "outputs": [
    {
     "data": {
      "text/plain": [
       "(50000, 10000)"
      ]
     },
     "execution_count": 10,
     "metadata": {},
     "output_type": "execute_result"
    }
   ],
   "source": [
    "len(y_train), len(y_test)"
   ]
  },
  {
   "cell_type": "code",
   "execution_count": 11,
   "id": "302c0b1a",
   "metadata": {
    "execution": {
     "iopub.execute_input": "2024-10-19T20:42:03.218431Z",
     "iopub.status.busy": "2024-10-19T20:42:03.218081Z",
     "iopub.status.idle": "2024-10-19T20:42:03.515552Z",
     "shell.execute_reply": "2024-10-19T20:42:03.514367Z"
    },
    "papermill": {
     "duration": 0.311574,
     "end_time": "2024-10-19T20:42:03.517610",
     "exception": false,
     "start_time": "2024-10-19T20:42:03.206036",
     "status": "completed"
    },
    "tags": []
   },
   "outputs": [
    {
     "data": {
      "image/png": "[encoded data removed]",
      "text/plain": [
       "<Figure size 640x480 with 1 Axes>"
      ]
     },
     "metadata": {},
     "output_type": "display_data"
    },
    {
     "name": "stdout",
     "output_type": "stream",
     "text": [
      "tensor(6)\n"
     ]
    }
   ],
   "source": [
    "import matplotlib.pyplot as plt\n",
    "plt.imshow(np.transpose(X_train[5,:,:,:], (1,2,0)))\n",
    "plt.show()\n",
    "print(y_train[0])"
   ]
  },
  {
   "cell_type": "markdown",
   "id": "7f435424",
   "metadata": {
    "papermill": {
     "duration": 0.011439,
     "end_time": "2024-10-19T20:42:03.541024",
     "exception": false,
     "start_time": "2024-10-19T20:42:03.529585",
     "status": "completed"
    },
    "tags": []
   },
   "source": [
    "# LeNet"
   ]
  },
  {
   "cell_type": "code",
   "execution_count": 12,
   "id": "209a509a",
   "metadata": {
    "execution": {
     "iopub.execute_input": "2024-10-19T20:42:03.566602Z",
     "iopub.status.busy": "2024-10-19T20:42:03.566217Z",
     "iopub.status.idle": "2024-10-19T20:42:03.585445Z",
     "shell.execute_reply": "2024-10-19T20:42:03.584441Z"
    },
    "papermill": {
     "duration": 0.034903,
     "end_time": "2024-10-19T20:42:03.587762",
     "exception": false,
     "start_time": "2024-10-19T20:42:03.552859",
     "status": "completed"
    },
    "tags": []
   },
   "outputs": [],
   "source": [
    "class LeNet5(torch.nn.Module):\n",
    "  def __init__(self):\n",
    "    super (LeNet5, self).__init__()\n",
    "\n",
    "    self.conv1 = torch.nn.Conv2d(\n",
    "        in_channels = 3, out_channels = 6, kernel_size = 5, padding = 2)\n",
    "    self.act1 = torch.nn.Tanh()\n",
    "    self.pool1 = torch.nn.AvgPool2d(kernel_size = 2, stride = 2)\n",
    "    self.conv2 = torch.nn.Conv2d(\n",
    "        in_channels = 6, out_channels = 16, kernel_size = 5, padding = 0)\n",
    "    self.act2 = torch.nn.Tanh()\n",
    "    self.pool2 = torch.nn.AvgPool2d(kernel_size = 2, stride = 2)\n",
    "\n",
    "    self.fc1 = torch.nn.Linear(6*6*16,120)\n",
    "    self.act3 = torch.nn.Tanh()\n",
    "\n",
    "    self.fc2 = torch.nn.Linear(120,84)\n",
    "    self.act4 = torch.nn.Tanh()\n",
    "\n",
    "    self.fc3 = torch.nn.Linear(84,10)\n",
    "\n",
    "  def forward(self,x):\n",
    "    x = self.conv1(x)\n",
    "    x = self.act1(x)\n",
    "    x = self.pool1(x)\n",
    "\n",
    "    x = self.conv2(x)\n",
    "    x = self.act2(x)\n",
    "    x = self.pool2(x)\n",
    "\n",
    "    x = x.view(x.size(0), x.size(1)* x.size(2) * x.size(3))\n",
    "\n",
    "    x = self.fc1(x)\n",
    "    x = self.act3(x)\n",
    "    x = self.fc2(x)\n",
    "    x = self.act4(x)\n",
    "    x = self.fc3(x)\n",
    "\n",
    "    return x\n",
    "\n",
    "net_LeNet = LeNet5()"
   ]
  },
  {
   "cell_type": "code",
   "execution_count": 13,
   "id": "a47af89f",
   "metadata": {
    "execution": {
     "iopub.execute_input": "2024-10-19T20:42:03.613563Z",
     "iopub.status.busy": "2024-10-19T20:42:03.612699Z",
     "iopub.status.idle": "2024-10-19T20:42:03.622905Z",
     "shell.execute_reply": "2024-10-19T20:42:03.622032Z"
    },
    "papermill": {
     "duration": 0.025095,
     "end_time": "2024-10-19T20:42:03.624886",
     "exception": false,
     "start_time": "2024-10-19T20:42:03.599791",
     "status": "completed"
    },
    "tags": []
   },
   "outputs": [],
   "source": [
    "def trainLeNet(net):\n",
    "  device = torch.device('cuda:0' if torch.cuda.is_available() else 'cpu')\n",
    "  net = net.to(device)\n",
    "\n",
    "  loss = torch.nn.CrossEntropyLoss()\n",
    "  optimizer = torch.optim.Adam(net.parameters(), lr=0.001)\n",
    "\n",
    "  batch_size = 30\n",
    "\n",
    "  test_acc = []\n",
    "  test_loss = []\n",
    "\n",
    "  dev_X_test = X_test.to(device)\n",
    "  dev_y_test = y_test.to(device)\n",
    "\n",
    "  for e in range(20):\n",
    "    order = np.random.permutation(len(X_train))\n",
    "    net.train()\n",
    "    for i in range(0, len(X_train), batch_size):\n",
    "      optimizer.zero_grad()\n",
    "\n",
    "      batch_ind = order[i:i+batch_size]\n",
    "\n",
    "      X_batch = X_train[batch_ind].to(device)\n",
    "      y_batch = y_train[batch_ind].to(device)\n",
    "      preds = net.forward(X_batch)\n",
    "      loss_val = loss(preds, y_batch)\n",
    "      loss_val.backward()\n",
    "\n",
    "      optimizer.step()\n",
    "\n",
    "    net.eval()\n",
    "    with torch.no_grad():\n",
    "      test_preds = net.forward(dev_X_test)\n",
    "      test_loss.append(loss(test_preds, dev_y_test).data.cpu())\n",
    "\n",
    "      acc = (test_preds.argmax(dim = 1) == dev_y_test).float().mean().data.cpu()\n",
    "      test_acc.append(acc)\n",
    "\n",
    "    print(acc, \"   \", test_loss[-1])\n",
    "  return test_loss"
   ]
  },
  {
   "cell_type": "code",
   "execution_count": 14,
   "id": "fcb8c8bf",
   "metadata": {
    "execution": {
     "iopub.execute_input": "2024-10-19T20:42:03.649116Z",
     "iopub.status.busy": "2024-10-19T20:42:03.648820Z",
     "iopub.status.idle": "2024-10-19T20:43:20.110252Z",
     "shell.execute_reply": "2024-10-19T20:43:20.109182Z"
    },
    "papermill": {
     "duration": 76.475907,
     "end_time": "2024-10-19T20:43:20.112421",
     "exception": false,
     "start_time": "2024-10-19T20:42:03.636514",
     "status": "completed"
    },
    "tags": []
   },
   "outputs": [
    {
     "name": "stdout",
     "output_type": "stream",
     "text": [
      "tensor(0.4410)     tensor(1.5739)\n",
      "tensor(0.4978)     tensor(1.4386)\n",
      "tensor(0.5131)     tensor(1.3678)\n",
      "tensor(0.5337)     tensor(1.3329)\n",
      "tensor(0.5311)     tensor(1.3281)\n",
      "tensor(0.5285)     tensor(1.3350)\n",
      "tensor(0.5389)     tensor(1.3386)\n",
      "tensor(0.5402)     tensor(1.3142)\n",
      "tensor(0.5446)     tensor(1.3123)\n",
      "tensor(0.5469)     tensor(1.3085)\n",
      "tensor(0.5531)     tensor(1.3097)\n",
      "tensor(0.5495)     tensor(1.3161)\n",
      "tensor(0.5540)     tensor(1.3234)\n",
      "tensor(0.5470)     tensor(1.3497)\n",
      "tensor(0.5336)     tensor(1.4052)\n",
      "tensor(0.5512)     tensor(1.3678)\n",
      "tensor(0.5434)     tensor(1.3994)\n",
      "tensor(0.5440)     tensor(1.4244)\n",
      "tensor(0.5441)     tensor(1.4394)\n",
      "tensor(0.5393)     tensor(1.4612)\n"
     ]
    }
   ],
   "source": [
    "test_loss = trainLeNet(net_LeNet)"
   ]
  },
  {
   "cell_type": "markdown",
   "id": "7740e173",
   "metadata": {
    "papermill": {
     "duration": 0.012741,
     "end_time": "2024-10-19T20:43:20.138419",
     "exception": false,
     "start_time": "2024-10-19T20:43:20.125678",
     "status": "completed"
    },
    "tags": []
   },
   "source": [
    "# ReLU"
   ]
  },
  {
   "cell_type": "code",
   "execution_count": 15,
   "id": "b66680a0",
   "metadata": {
    "execution": {
     "iopub.execute_input": "2024-10-19T20:43:20.165930Z",
     "iopub.status.busy": "2024-10-19T20:43:20.165222Z",
     "iopub.status.idle": "2024-10-19T20:43:20.178837Z",
     "shell.execute_reply": "2024-10-19T20:43:20.177978Z"
    },
    "papermill": {
     "duration": 0.029598,
     "end_time": "2024-10-19T20:43:20.180927",
     "exception": false,
     "start_time": "2024-10-19T20:43:20.151329",
     "status": "completed"
    },
    "tags": []
   },
   "outputs": [],
   "source": [
    "class LeNet5ReLU(torch.nn.Module):\n",
    "  def __init__(self):\n",
    "    super (LeNet5ReLU, self).__init__()\n",
    "\n",
    "    self.conv1 = torch.nn.Conv2d(\n",
    "        in_channels = 3, out_channels=6, kernel_size = 5, padding = 2)\n",
    "    self.act1 = torch.nn.ReLU()\n",
    "    self.pool1 = torch.nn.AvgPool2d(kernel_size= 2, stride = 2)\n",
    "    self.conv2 = torch.nn.Conv2d(\n",
    "        in_channels = 6, out_channels=16, kernel_size = 5, padding = 0)\n",
    "    self.act2 = torch.nn.ReLU()\n",
    "    self.pool2 = torch.nn.AvgPool2d(kernel_size= 2, stride = 2)\n",
    "\n",
    "    self.fc1 = torch.nn.Linear(6*6*16,120)\n",
    "    self.act3 = torch.nn.ReLU()\n",
    "\n",
    "    self.fc2 = torch.nn.Linear(120,84)\n",
    "    self.act4 = torch.nn.ReLU()\n",
    "\n",
    "    self.fc3 = torch.nn.Linear(84,10)\n",
    "\n",
    "  def forward(self,x):\n",
    "    x = self.conv1(x)\n",
    "    x = self.act1(x)\n",
    "    x = self.pool1(x)\n",
    "\n",
    "    x = self.conv2(x)\n",
    "    x = self.act2(x)\n",
    "    x = self.pool2(x)\n",
    "\n",
    "    x = x.view(x.size(0), x.size(1)* x.size(2) * x.size(3))\n",
    "\n",
    "    x = self.fc1(x)\n",
    "    x = self.act3(x)\n",
    "    x = self.fc2(x)\n",
    "    x = self.act4(x)\n",
    "    x = self.fc3(x)\n",
    "\n",
    "    return x\n",
    "\n",
    "net_ReLU = LeNet5ReLU()"
   ]
  },
  {
   "cell_type": "code",
   "execution_count": 16,
   "id": "bd249486",
   "metadata": {
    "execution": {
     "iopub.execute_input": "2024-10-19T20:43:20.213475Z",
     "iopub.status.busy": "2024-10-19T20:43:20.212783Z",
     "iopub.status.idle": "2024-10-19T20:44:36.838564Z",
     "shell.execute_reply": "2024-10-19T20:44:36.837544Z"
    },
    "papermill": {
     "duration": 76.644258,
     "end_time": "2024-10-19T20:44:36.840796",
     "exception": false,
     "start_time": "2024-10-19T20:43:20.196538",
     "status": "completed"
    },
    "tags": []
   },
   "outputs": [
    {
     "name": "stdout",
     "output_type": "stream",
     "text": [
      "tensor(0.4360)     tensor(1.5389)\n",
      "tensor(0.4973)     tensor(1.3813)\n",
      "tensor(0.5147)     tensor(1.3398)\n",
      "tensor(0.5364)     tensor(1.3042)\n",
      "tensor(0.5462)     tensor(1.2622)\n",
      "tensor(0.5447)     tensor(1.2626)\n",
      "tensor(0.5661)     tensor(1.2362)\n",
      "tensor(0.5822)     tensor(1.1851)\n",
      "tensor(0.5884)     tensor(1.1590)\n",
      "tensor(0.5917)     tensor(1.1682)\n",
      "tensor(0.5979)     tensor(1.1372)\n",
      "tensor(0.5879)     tensor(1.1643)\n",
      "tensor(0.5782)     tensor(1.2081)\n",
      "tensor(0.5923)     tensor(1.1720)\n",
      "tensor(0.5998)     tensor(1.1416)\n",
      "tensor(0.5899)     tensor(1.1908)\n",
      "tensor(0.6070)     tensor(1.1397)\n",
      "tensor(0.5877)     tensor(1.1805)\n",
      "tensor(0.5980)     tensor(1.1612)\n",
      "tensor(0.6081)     tensor(1.1560)\n"
     ]
    }
   ],
   "source": [
    "test_loss_ReLU = trainLeNet(net_ReLU)"
   ]
  },
  {
   "cell_type": "markdown",
   "id": "711d1113",
   "metadata": {
    "papermill": {
     "duration": 0.014489,
     "end_time": "2024-10-19T20:44:36.870145",
     "exception": false,
     "start_time": "2024-10-19T20:44:36.855656",
     "status": "completed"
    },
    "tags": []
   },
   "source": [
    "# MaxPooling"
   ]
  },
  {
   "cell_type": "code",
   "execution_count": 17,
   "id": "0c1d0eaf",
   "metadata": {
    "execution": {
     "iopub.execute_input": "2024-10-19T20:44:36.900567Z",
     "iopub.status.busy": "2024-10-19T20:44:36.900219Z",
     "iopub.status.idle": "2024-10-19T20:44:36.913223Z",
     "shell.execute_reply": "2024-10-19T20:44:36.912450Z"
    },
    "papermill": {
     "duration": 0.03056,
     "end_time": "2024-10-19T20:44:36.915232",
     "exception": false,
     "start_time": "2024-10-19T20:44:36.884672",
     "status": "completed"
    },
    "tags": []
   },
   "outputs": [],
   "source": [
    "class LeNet5MaxPool(torch.nn.Module):\n",
    "  def __init__(self):\n",
    "    super (LeNet5MaxPool, self).__init__()\n",
    "\n",
    "    self.conv1 = torch.nn.Conv2d(\n",
    "        in_channels = 3, out_channels=6, kernel_size = 5, padding = 2)\n",
    "    self.act1 = torch.nn.ReLU()\n",
    "    self.pool1 = torch.nn.MaxPool2d(kernel_size= 2, stride = 2)\n",
    "    self.conv2 = torch.nn.Conv2d(\n",
    "        in_channels = 6, out_channels=16, kernel_size = 5, padding = 0)\n",
    "    self.act2 = torch.nn.ReLU()\n",
    "    self.pool2 = torch.nn.MaxPool2d(kernel_size= 2, stride = 2)\n",
    "\n",
    "    self.fc1 = torch.nn.Linear(6*6*16,120)\n",
    "    self.act3 = torch.nn.ReLU()\n",
    "\n",
    "    self.fc2 = torch.nn.Linear(120,84)\n",
    "    self.act4 = torch.nn.ReLU()\n",
    "\n",
    "    self.fc3 = torch.nn.Linear(84,10)\n",
    "\n",
    "  def forward(self,x):\n",
    "    x = self.conv1(x)\n",
    "    x = self.act1(x)\n",
    "    x = self.pool1(x)\n",
    "\n",
    "    x = self.conv2(x)\n",
    "    x = self.act2(x)\n",
    "    x = self.pool2(x)\n",
    "\n",
    "    x = x.view(x.size(0), x.size(1)* x.size(2) * x.size(3))\n",
    "\n",
    "    x = self.fc1(x)\n",
    "    x = self.act3(x)\n",
    "    x = self.fc2(x)\n",
    "    x = self.act4(x)\n",
    "    x = self.fc3(x)\n",
    "\n",
    "    return x\n",
    "\n",
    "net_MaxPool = LeNet5MaxPool()"
   ]
  },
  {
   "cell_type": "code",
   "execution_count": 18,
   "id": "ee75e593",
   "metadata": {
    "execution": {
     "iopub.execute_input": "2024-10-19T20:44:36.945990Z",
     "iopub.status.busy": "2024-10-19T20:44:36.945645Z",
     "iopub.status.idle": "2024-10-19T20:45:54.243828Z",
     "shell.execute_reply": "2024-10-19T20:45:54.242805Z"
    },
    "papermill": {
     "duration": 77.316097,
     "end_time": "2024-10-19T20:45:54.245992",
     "exception": false,
     "start_time": "2024-10-19T20:44:36.929895",
     "status": "completed"
    },
    "tags": []
   },
   "outputs": [
    {
     "name": "stdout",
     "output_type": "stream",
     "text": [
      "tensor(0.4739)     tensor(1.4393)\n",
      "tensor(0.5103)     tensor(1.3408)\n",
      "tensor(0.5374)     tensor(1.2895)\n",
      "tensor(0.5741)     tensor(1.1854)\n",
      "tensor(0.5774)     tensor(1.1834)\n",
      "tensor(0.5906)     tensor(1.1510)\n",
      "tensor(0.6006)     tensor(1.1171)\n",
      "tensor(0.5964)     tensor(1.1475)\n",
      "tensor(0.6145)     tensor(1.0892)\n",
      "tensor(0.6036)     tensor(1.1327)\n",
      "tensor(0.6115)     tensor(1.1256)\n",
      "tensor(0.6185)     tensor(1.0998)\n",
      "tensor(0.6223)     tensor(1.1000)\n",
      "tensor(0.6040)     tensor(1.1637)\n",
      "tensor(0.6124)     tensor(1.1279)\n",
      "tensor(0.6141)     tensor(1.1526)\n",
      "tensor(0.6141)     tensor(1.1865)\n",
      "tensor(0.6156)     tensor(1.1718)\n",
      "tensor(0.6138)     tensor(1.1858)\n",
      "tensor(0.6174)     tensor(1.1598)\n"
     ]
    }
   ],
   "source": [
    "test_loss_MaxPool = trainLeNet(net_MaxPool)"
   ]
  },
  {
   "cell_type": "markdown",
   "id": "8d0c8f4d",
   "metadata": {
    "papermill": {
     "duration": 0.015768,
     "end_time": "2024-10-19T20:45:54.278255",
     "exception": false,
     "start_time": "2024-10-19T20:45:54.262487",
     "status": "completed"
    },
    "tags": []
   },
   "source": [
    "# Double"
   ]
  },
  {
   "cell_type": "code",
   "execution_count": 19,
   "id": "6f68b559",
   "metadata": {
    "execution": {
     "iopub.execute_input": "2024-10-19T20:45:54.312094Z",
     "iopub.status.busy": "2024-10-19T20:45:54.311745Z",
     "iopub.status.idle": "2024-10-19T20:45:54.326156Z",
     "shell.execute_reply": "2024-10-19T20:45:54.325428Z"
    },
    "papermill": {
     "duration": 0.033545,
     "end_time": "2024-10-19T20:45:54.328104",
     "exception": false,
     "start_time": "2024-10-19T20:45:54.294559",
     "status": "completed"
    },
    "tags": []
   },
   "outputs": [],
   "source": [
    "class LeNet5Double(torch.nn.Module):\n",
    "  def __init__(self):\n",
    "    super (LeNet5Double, self).__init__()\n",
    "\n",
    "    self.conv1_1 = torch.nn.Conv2d(\n",
    "                in_channels=3, out_channels=6, kernel_size=3, padding=0)\n",
    "    self.conv1_2 = torch.nn.Conv2d(\n",
    "                in_channels=6, out_channels=6, kernel_size=3, padding=0)\n",
    "\n",
    "    self.conv2_1 = torch.nn.Conv2d(\n",
    "                in_channels=6, out_channels=16, kernel_size=3, padding=0)\n",
    "    self.conv2_2 = torch.nn.Conv2d(\n",
    "                in_channels=16, out_channels=16, kernel_size=3, padding=0)\n",
    "\n",
    "    self.act1 = torch.nn.ReLU()\n",
    "    self.pool1 = torch.nn.MaxPool2d(kernel_size= 2, stride = 2)\n",
    "\n",
    "    self.act2 = torch.nn.ReLU()\n",
    "    self.pool2 = torch.nn.MaxPool2d(kernel_size= 2, stride = 2)\n",
    "\n",
    "    self.fc1 = torch.nn.Linear(5*5*16,120)\n",
    "    self.act3 = torch.nn.ReLU()\n",
    "\n",
    "    self.fc2 = torch.nn.Linear(120,84)\n",
    "    self.act4 = torch.nn.ReLU()\n",
    "\n",
    "    self.fc3 = torch.nn.Linear(84,10)\n",
    "\n",
    "  def forward(self,x):\n",
    "    x = self.conv1_2(self.conv1_1(x))\n",
    "    x = self.act1(x)\n",
    "    x = self.pool1(x)\n",
    "\n",
    "    x = self.conv2_2(self.conv2_1(x))\n",
    "    x = self.act2(x)\n",
    "    x = self.pool2(x)\n",
    "\n",
    "    x = x.view(x.size(0), x.size(1)* x.size(2) * x.size(3))\n",
    "\n",
    "    x = self.fc1(x)\n",
    "    x = self.act3(x)\n",
    "    x = self.fc2(x)\n",
    "    x = self.act4(x)\n",
    "    x = self.fc3(x)\n",
    "\n",
    "    return x\n",
    "\n",
    "net_Double = LeNet5Double()"
   ]
  },
  {
   "cell_type": "code",
   "execution_count": 20,
   "id": "2c57fda6",
   "metadata": {
    "execution": {
     "iopub.execute_input": "2024-10-19T20:45:54.362306Z",
     "iopub.status.busy": "2024-10-19T20:45:54.361498Z",
     "iopub.status.idle": "2024-10-19T20:47:26.807523Z",
     "shell.execute_reply": "2024-10-19T20:47:26.806543Z"
    },
    "papermill": {
     "duration": 92.46537,
     "end_time": "2024-10-19T20:47:26.809881",
     "exception": false,
     "start_time": "2024-10-19T20:45:54.344511",
     "status": "completed"
    },
    "tags": []
   },
   "outputs": [
    {
     "name": "stdout",
     "output_type": "stream",
     "text": [
      "tensor(0.4528)     tensor(1.4946)\n",
      "tensor(0.5102)     tensor(1.3624)\n",
      "tensor(0.5381)     tensor(1.2961)\n",
      "tensor(0.5830)     tensor(1.1853)\n",
      "tensor(0.5919)     tensor(1.1525)\n",
      "tensor(0.6021)     tensor(1.1311)\n",
      "tensor(0.6132)     tensor(1.1111)\n",
      "tensor(0.5812)     tensor(1.1872)\n",
      "tensor(0.6075)     tensor(1.1269)\n",
      "tensor(0.6383)     tensor(1.0484)\n",
      "tensor(0.6371)     tensor(1.0446)\n",
      "tensor(0.6475)     tensor(1.0297)\n",
      "tensor(0.6472)     tensor(1.0289)\n",
      "tensor(0.6505)     tensor(1.0310)\n",
      "tensor(0.6546)     tensor(1.0424)\n",
      "tensor(0.6467)     tensor(1.0512)\n",
      "tensor(0.6558)     tensor(1.0341)\n",
      "tensor(0.6601)     tensor(1.0459)\n",
      "tensor(0.6616)     tensor(1.0439)\n",
      "tensor(0.6525)     tensor(1.0638)\n"
     ]
    }
   ],
   "source": [
    "test_loss_Double = trainLeNet(net_Double)"
   ]
  },
  {
   "cell_type": "markdown",
   "id": "ac3e823c",
   "metadata": {
    "papermill": {
     "duration": 0.017048,
     "end_time": "2024-10-19T20:47:26.847307",
     "exception": false,
     "start_time": "2024-10-19T20:47:26.830259",
     "status": "completed"
    },
    "tags": []
   },
   "source": [
    "# BatchNorm"
   ]
  },
  {
   "cell_type": "code",
   "execution_count": 21,
   "id": "30eb8428",
   "metadata": {
    "execution": {
     "iopub.execute_input": "2024-10-19T20:47:26.883969Z",
     "iopub.status.busy": "2024-10-19T20:47:26.883230Z",
     "iopub.status.idle": "2024-10-19T20:47:26.905577Z",
     "shell.execute_reply": "2024-10-19T20:47:26.904770Z"
    },
    "papermill": {
     "duration": 0.04288,
     "end_time": "2024-10-19T20:47:26.907448",
     "exception": false,
     "start_time": "2024-10-19T20:47:26.864568",
     "status": "completed"
    },
    "tags": []
   },
   "outputs": [],
   "source": [
    "class LeNet5BatchNorm(torch.nn.Module):\n",
    "  def __init__(self):\n",
    "    super (LeNet5BatchNorm, self).__init__()\n",
    "\n",
    "    self.conv1_1 = torch.nn.Conv2d(\n",
    "                in_channels=3, out_channels=6, kernel_size=3, padding=0)\n",
    "    self.bn1_1 = torch.nn.BatchNorm2d(6)\n",
    "\n",
    "    self.conv1_2 = torch.nn.Conv2d(\n",
    "                in_channels=6, out_channels=6, kernel_size=3, padding=0)\n",
    "    self.bn1_2 = torch.nn.BatchNorm2d(6)\n",
    "\n",
    "    self.conv2_1 = torch.nn.Conv2d(\n",
    "                in_channels=6, out_channels=16, kernel_size=3, padding=0)\n",
    "    self.bn2_1 = torch.nn.BatchNorm2d(16)\n",
    "\n",
    "    self.conv2_2 = torch.nn.Conv2d(\n",
    "                in_channels=16, out_channels=16, kernel_size=3, padding=0)\n",
    "    self.bn2_2 = torch.nn.BatchNorm2d(16)\n",
    "\n",
    "    self.act1 = torch.nn.ReLU()\n",
    "    self.pool1 = torch.nn.MaxPool2d(kernel_size= 2, stride = 2)\n",
    "\n",
    "    self.act2 = torch.nn.ReLU()\n",
    "    self.pool2 = torch.nn.MaxPool2d(kernel_size= 2, stride = 2)\n",
    "\n",
    "    self.fc1 = torch.nn.Linear(5*5*16,120)\n",
    "    self.bn3 = torch.nn.BatchNorm1d(120)\n",
    "    self.act3 = torch.nn.ReLU()\n",
    "\n",
    "    self.fc2 = torch.nn.Linear(120,84)\n",
    "    self.bn4 = torch.nn.BatchNorm1d(84)\n",
    "    self.act4 = torch.nn.ReLU()\n",
    "\n",
    "    self.fc3 = torch.nn.Linear(84,10)\n",
    "\n",
    "  def forward(self,x):\n",
    "    x = self.conv1_2(self.bn1_1(self.conv1_1(x)))\n",
    "    x = self.bn1_2(x)\n",
    "    x = self.act1(x)\n",
    "    x = self.pool1(x)\n",
    "\n",
    "    x = self.conv2_2(self.bn2_1(self.conv2_1(x)))\n",
    "    x = self.bn2_2(x)\n",
    "    x = self.act2(x)\n",
    "    x = self.pool2(x)\n",
    "\n",
    "    x = x.view(x.size(0), x.size(1)* x.size(2) * x.size(3))\n",
    "\n",
    "    x = self.fc1(x)\n",
    "    x = self.bn3(x)\n",
    "    x = self.act3(x)\n",
    "\n",
    "    x = self.fc2(x)\n",
    "    x = self.bn4(x)\n",
    "    x = self.act4(x)\n",
    "\n",
    "    x = self.fc3(x)\n",
    "\n",
    "    return x\n",
    "\n",
    "net_BatchNorm = LeNet5BatchNorm()"
   ]
  },
  {
   "cell_type": "code",
   "execution_count": 22,
   "id": "e335fc36",
   "metadata": {
    "execution": {
     "iopub.execute_input": "2024-10-19T20:47:26.943477Z",
     "iopub.status.busy": "2024-10-19T20:47:26.943161Z",
     "iopub.status.idle": "2024-10-19T20:49:36.542714Z",
     "shell.execute_reply": "2024-10-19T20:49:36.541779Z"
    },
    "papermill": {
     "duration": 129.63918,
     "end_time": "2024-10-19T20:49:36.564001",
     "exception": false,
     "start_time": "2024-10-19T20:47:26.924821",
     "status": "completed"
    },
    "tags": []
   },
   "outputs": [
    {
     "name": "stdout",
     "output_type": "stream",
     "text": [
      "tensor(0.5931)     tensor(1.1561)\n",
      "tensor(0.6387)     tensor(1.0217)\n",
      "tensor(0.6637)     tensor(0.9732)\n",
      "tensor(0.6510)     tensor(1.0163)\n",
      "tensor(0.6553)     tensor(0.9887)\n",
      "tensor(0.6848)     tensor(0.9136)\n",
      "tensor(0.6944)     tensor(0.8878)\n",
      "tensor(0.6835)     tensor(0.9296)\n",
      "tensor(0.6942)     tensor(0.8855)\n",
      "tensor(0.6909)     tensor(0.9083)\n",
      "tensor(0.6901)     tensor(0.9040)\n",
      "tensor(0.6926)     tensor(0.9078)\n",
      "tensor(0.6923)     tensor(0.9108)\n",
      "tensor(0.6924)     tensor(0.9161)\n",
      "tensor(0.6947)     tensor(0.9194)\n",
      "tensor(0.6923)     tensor(0.9496)\n",
      "tensor(0.6914)     tensor(0.9722)\n",
      "tensor(0.6880)     tensor(0.9579)\n",
      "tensor(0.6872)     tensor(0.9725)\n",
      "tensor(0.6865)     tensor(0.9998)\n"
     ]
    }
   ],
   "source": [
    "test_loss_BatchNorm = trainLeNet(net_BatchNorm)"
   ]
  },
  {
   "cell_type": "markdown",
   "id": "6c48f749",
   "metadata": {
    "papermill": {
     "duration": 0.01974,
     "end_time": "2024-10-19T20:49:36.604095",
     "exception": false,
     "start_time": "2024-10-19T20:49:36.584355",
     "status": "completed"
    },
    "tags": []
   },
   "source": [
    "# Conclusion"
   ]
  },
  {
   "cell_type": "code",
   "execution_count": 23,
   "id": "e966817b",
   "metadata": {
    "execution": {
     "iopub.execute_input": "2024-10-19T20:49:36.644234Z",
     "iopub.status.busy": "2024-10-19T20:49:36.643334Z",
     "iopub.status.idle": "2024-10-19T20:49:36.934589Z",
     "shell.execute_reply": "2024-10-19T20:49:36.933665Z"
    },
    "papermill": {
     "duration": 0.313536,
     "end_time": "2024-10-19T20:49:36.936549",
     "exception": false,
     "start_time": "2024-10-19T20:49:36.623013",
     "status": "completed"
    },
    "tags": []
   },
   "outputs": [
    {
     "data": {
      "image/png": "[encoded data removed]",
      "text/plain": [
       "<Figure size 640x480 with 1 Axes>"
      ]
     },
     "metadata": {},
     "output_type": "display_data"
    }
   ],
   "source": [
    "plt.plot(test_loss, label='LeNet')\n",
    "plt.plot(test_loss_ReLU, label='ReLU')\n",
    "plt.plot(test_loss_MaxPool, label='MaxPool')\n",
    "plt.plot(test_loss_Double, label='Double')\n",
    "plt.plot(test_loss_BatchNorm, label='BatchNorm')\n",
    "\n",
    "plt.title('Loss train')\n",
    "plt.legend()\n",
    "plt.xlabel('Epoch')\n",
    "plt.ylabel('Loss')\n",
    "plt.show()"
   ]
  },
  {
   "cell_type": "code",
   "execution_count": 24,
   "id": "da8687e2",
   "metadata": {
    "execution": {
     "iopub.execute_input": "2024-10-19T20:49:36.977802Z",
     "iopub.status.busy": "2024-10-19T20:49:36.977051Z",
     "iopub.status.idle": "2024-10-19T20:52:20.837167Z",
     "shell.execute_reply": "2024-10-19T20:52:20.836254Z"
    },
    "papermill": {
     "duration": 163.883225,
     "end_time": "2024-10-19T20:52:20.839756",
     "exception": false,
     "start_time": "2024-10-19T20:49:36.956531",
     "status": "completed"
    },
    "tags": []
   },
   "outputs": [
    {
     "name": "stdout",
     "output_type": "stream",
     "text": [
      "Collecting py7zr\r\n",
      "  Downloading py7zr-0.22.0-py3-none-any.whl.metadata (16 kB)\r\n",
      "Requirement already satisfied: texttable in /opt/conda/lib/python3.10/site-packages (from py7zr) (1.7.0)\r\n",
      "Collecting pycryptodomex>=3.16.0 (from py7zr)\r\n",
      "  Downloading pycryptodomex-3.21.0-cp36-abi3-manylinux_2_17_x86_64.manylinux2014_x86_64.whl.metadata (3.4 kB)\r\n",
      "Collecting pyzstd>=0.15.9 (from py7zr)\r\n",
      "  Downloading pyzstd-0.16.2-cp310-cp310-manylinux_2_17_x86_64.manylinux2014_x86_64.whl.metadata (2.4 kB)\r\n",
      "Collecting pyppmd<1.2.0,>=1.1.0 (from py7zr)\r\n",
      "  Downloading pyppmd-1.1.0-cp310-cp310-manylinux_2_17_x86_64.manylinux2014_x86_64.whl.metadata (5.7 kB)\r\n",
      "Collecting pybcj<1.1.0,>=1.0.0 (from py7zr)\r\n",
      "  Downloading pybcj-1.0.2-cp310-cp310-manylinux_2_17_x86_64.manylinux2014_x86_64.whl.metadata (4.0 kB)\r\n",
      "Collecting multivolumefile>=0.2.3 (from py7zr)\r\n",
      "  Downloading multivolumefile-0.2.3-py3-none-any.whl.metadata (6.3 kB)\r\n",
      "Collecting inflate64<1.1.0,>=1.0.0 (from py7zr)\r\n",
      "  Downloading inflate64-1.0.0-cp310-cp310-manylinux_2_17_x86_64.manylinux2014_x86_64.whl.metadata (4.0 kB)\r\n",
      "Requirement already satisfied: brotli>=1.1.0 in /opt/conda/lib/python3.10/site-packages (from py7zr) (1.1.0)\r\n",
      "Requirement already satisfied: psutil in /opt/conda/lib/python3.10/site-packages (from py7zr) (5.9.3)\r\n",
      "Downloading py7zr-0.22.0-py3-none-any.whl (67 kB)\r\n",
      "\u001b[2K   \u001b[90m━━━━━━━━━━━━━━━━━━━━━━━━━━━━━━━━━━━━━━━━\u001b[0m \u001b[32m67.9/67.9 kB\u001b[0m \u001b[31m3.3 MB/s\u001b[0m eta \u001b[36m0:00:00\u001b[0m\r\n",
      "\u001b[?25hDownloading inflate64-1.0.0-cp310-cp310-manylinux_2_17_x86_64.manylinux2014_x86_64.whl (93 kB)\r\n",
      "\u001b[2K   \u001b[90m━━━━━━━━━━━━━━━━━━━━━━━━━━━━━━━━━━━━━━━━\u001b[0m \u001b[32m93.1/93.1 kB\u001b[0m \u001b[31m6.3 MB/s\u001b[0m eta \u001b[36m0:00:00\u001b[0m\r\n",
      "\u001b[?25hDownloading multivolumefile-0.2.3-py3-none-any.whl (17 kB)\r\n",
      "Downloading pybcj-1.0.2-cp310-cp310-manylinux_2_17_x86_64.manylinux2014_x86_64.whl (49 kB)\r\n",
      "\u001b[2K   \u001b[90m━━━━━━━━━━━━━━━━━━━━━━━━━━━━━━━━━━━━━━━━\u001b[0m \u001b[32m49.7/49.7 kB\u001b[0m \u001b[31m3.0 MB/s\u001b[0m eta \u001b[36m0:00:00\u001b[0m\r\n",
      "\u001b[?25hDownloading pycryptodomex-3.21.0-cp36-abi3-manylinux_2_17_x86_64.manylinux2014_x86_64.whl (2.3 MB)\r\n",
      "\u001b[2K   \u001b[90m━━━━━━━━━━━━━━━━━━━━━━━━━━━━━━━━━━━━━━━━\u001b[0m \u001b[32m2.3/2.3 MB\u001b[0m \u001b[31m52.1 MB/s\u001b[0m eta \u001b[36m0:00:00\u001b[0m\r\n",
      "\u001b[?25hDownloading pyppmd-1.1.0-cp310-cp310-manylinux_2_17_x86_64.manylinux2014_x86_64.whl (138 kB)\r\n",
      "\u001b[2K   \u001b[90m━━━━━━━━━━━━━━━━━━━━━━━━━━━━━━━━━━━━━━━━\u001b[0m \u001b[32m138.9/138.9 kB\u001b[0m \u001b[31m9.3 MB/s\u001b[0m eta \u001b[36m0:00:00\u001b[0m\r\n",
      "\u001b[?25hDownloading pyzstd-0.16.2-cp310-cp310-manylinux_2_17_x86_64.manylinux2014_x86_64.whl (413 kB)\r\n",
      "\u001b[2K   \u001b[90m━━━━━━━━━━━━━━━━━━━━━━━━━━━━━━━━━━━━━━━━\u001b[0m \u001b[32m413.7/413.7 kB\u001b[0m \u001b[31m24.7 MB/s\u001b[0m eta \u001b[36m0:00:00\u001b[0m\r\n",
      "\u001b[?25hInstalling collected packages: pyzstd, pyppmd, pycryptodomex, pybcj, multivolumefile, inflate64, py7zr\r\n",
      "Successfully installed inflate64-1.0.0 multivolumefile-0.2.3 py7zr-0.22.0 pybcj-1.0.2 pycryptodomex-3.21.0 pyppmd-1.1.0 pyzstd-0.16.2\r\n",
      "Directory /kaggle/working/test_comp created successfully.\n"
     ]
    }
   ],
   "source": [
    "!pip install  py7zr\n",
    "\n",
    "import py7zr\n",
    "import os\n",
    "\n",
    "folder_path = '/kaggle/working/test_comp'\n",
    "\n",
    "if not os.path.exists(folder_path):\n",
    "    os.makedirs(folder_path)\n",
    "    print(f\"Directory {folder_path} created successfully.\")\n",
    "else:\n",
    "    print(f\"Directory {folder_path} already exists.\")\n",
    "\n",
    "with py7zr.SevenZipFile('/kaggle/input/cifar-10/test.7z', mode='r') as z:\n",
    "    z.extractall(folder_path)"
   ]
  },
  {
   "cell_type": "code",
   "execution_count": 25,
   "id": "42300a3d",
   "metadata": {
    "execution": {
     "iopub.execute_input": "2024-10-19T20:52:20.884951Z",
     "iopub.status.busy": "2024-10-19T20:52:20.884075Z",
     "iopub.status.idle": "2024-10-19T20:53:46.376968Z",
     "shell.execute_reply": "2024-10-19T20:53:46.376128Z"
    },
    "papermill": {
     "duration": 85.517757,
     "end_time": "2024-10-19T20:53:46.379296",
     "exception": false,
     "start_time": "2024-10-19T20:52:20.861539",
     "status": "completed"
    },
    "tags": []
   },
   "outputs": [],
   "source": [
    "from torch.utils.data import Dataset, DataLoader\n",
    "from PIL import Image\n",
    "\n",
    "test_filenames = [os.path.join('/kaggle/working/test_comp/test', f) for f in os.listdir('/kaggle/working/test_comp/test')]\n",
    "test_filenames.sort(key=lambda x: int(x.split('/')[-1].split('.')[0]))\n",
    "\n",
    "class CIFAR10(Dataset):\n",
    "    def __init__(self, filenames, transforms):\n",
    "        self.filenames = filenames\n",
    "        self.transforms = transforms\n",
    "        \n",
    "    def __len__(self):\n",
    "        return len(self.filenames)\n",
    "    \n",
    "    def __getitem__(self, idx):\n",
    "        img = np.asarray(Image.open(self.filenames[idx]))\n",
    "        img = np.moveaxis(img, 2, 0)\n",
    "        transformed_img = self.transforms(img)\n",
    "        return transformed_img\n",
    "\n",
    "test_dataset = CIFAR10(test_filenames, normalize_images)\n",
    "\n",
    "test_loader = DataLoader(test_dataset, batch_size=128, shuffle=False)\n",
    "\n",
    "classes = ['airplane', 'automobile', 'bird', 'cat', 'deer', 'dog', 'frog', 'horse', 'ship', 'truck']\n",
    "\n",
    "device = torch.device('cuda' if torch.cuda.is_available() else 'cpu')\n",
    "\n",
    "result = []\n",
    "with torch.no_grad():\n",
    "    net_BatchNorm.eval()\n",
    "    for batch_in in test_loader:\n",
    "        batch_in = batch_in.to(device)\n",
    "        \n",
    "        y_pred = net_BatchNorm(batch_in)\n",
    "        preds = torch.argmax(y_pred, 1)\n",
    "        preds = preds.cpu().numpy()\n",
    "        result.extend([classes[i] for i in preds])\n",
    "        \n",
    "sample = pd.read_csv('/kaggle/input/cifar-10/sampleSubmission.csv')\n",
    "sample['label'] = result\n",
    "sample.to_csv('./submission.csv', index=False)"
   ]
  }
 ],
 "metadata": {
  "kaggle": {
   "accelerator": "gpu",
   "dataSources": [
    {
     "databundleVersionId": 46718,
     "sourceId": 3649,
     "sourceType": "competition"
    }
   ],
   "dockerImageVersionId": 30786,
   "isGpuEnabled": true,
   "isInternetEnabled": true,
   "language": "python",
   "sourceType": "notebook"
  },
  "kernelspec": {
   "display_name": "Python 3",
   "language": "python",
   "name": "python3"
  },
  "language_info": {
   "codemirror_mode": {
    "name": "ipython",
    "version": 3
   },
   "file_extension": ".py",
   "mimetype": "text/x-python",
   "name": "python",
   "nbconvert_exporter": "python",
   "pygments_lexer": "ipython3",
   "version": "3.10.14"
  },
  "papermill": {
   "default_parameters": {},
   "duration": 721.511101,
   "end_time": "2024-10-19T20:53:48.325978",
   "environment_variables": {},
   "exception": null,
   "input_path": "__notebook__.ipynb",
   "output_path": "__notebook__.ipynb",
   "parameters": {},
   "start_time": "2024-10-19T20:41:46.814877",
   "version": "2.6.0"
  }
 },
 "nbformat": 4,
 "nbformat_minor": 5
}
