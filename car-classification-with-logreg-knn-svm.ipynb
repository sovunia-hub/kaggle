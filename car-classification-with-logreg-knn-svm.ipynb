{
 "cells": [
  {
   "cell_type": "code",
   "execution_count": 1,
   "id": "4ff3d904",
   "metadata": {
    "_cell_guid": "b1076dfc-b9ad-4769-8c92-a6c4dae69d19",
    "_uuid": "8f2839f25d086af736a60e9eeb907d3b93b6e0e5",
    "execution": {
     "iopub.execute_input": "2024-10-18T20:18:13.657821Z",
     "iopub.status.busy": "2024-10-18T20:18:13.657275Z",
     "iopub.status.idle": "2024-10-18T20:18:14.793287Z",
     "shell.execute_reply": "2024-10-18T20:18:14.791908Z"
    },
    "papermill": {
     "duration": 1.151076,
     "end_time": "2024-10-18T20:18:14.795958",
     "exception": false,
     "start_time": "2024-10-18T20:18:13.644882",
     "status": "completed"
    },
    "tags": []
   },
   "outputs": [
    {
     "name": "stdout",
     "output_type": "stream",
     "text": [
      "/kaggle/input/car-acceptability-classification-dataset/car.csv\n",
      "/kaggle/input/car-acceptability-classification-dataset/car.data\n"
     ]
    }
   ],
   "source": [
    "# This Python 3 environment comes with many helpful analytics libraries installed\n",
    "# It is defined by the kaggle/python Docker image: https://github.com/kaggle/docker-python\n",
    "# For example, here's several helpful packages to load\n",
    "\n",
    "import numpy as np # linear algebra\n",
    "import pandas as pd # data processing, CSV file I/O (e.g. pd.read_csv)\n",
    "\n",
    "# Input data files are available in the read-only \"../input/\" directory\n",
    "# For example, running this (by clicking run or pressing Shift+Enter) will list all files under the input directory\n",
    "\n",
    "import os\n",
    "for dirname, _, filenames in os.walk('/kaggle/input'):\n",
    "    for filename in filenames:\n",
    "        print(os.path.join(dirname, filename))\n",
    "\n",
    "# You can write up to 20GB to the current directory (/kaggle/working/) that gets preserved as output when you create a version using \"Save & Run All\" \n",
    "# You can also write temporary files to /kaggle/temp/, but they won't be saved outside of the current session"
   ]
  },
  {
   "cell_type": "code",
   "execution_count": 2,
   "id": "c38b3416",
   "metadata": {
    "execution": {
     "iopub.execute_input": "2024-10-18T20:18:14.818764Z",
     "iopub.status.busy": "2024-10-18T20:18:14.818206Z",
     "iopub.status.idle": "2024-10-18T20:18:16.874717Z",
     "shell.execute_reply": "2024-10-18T20:18:16.873379Z"
    },
    "papermill": {
     "duration": 2.070828,
     "end_time": "2024-10-18T20:18:16.877621",
     "exception": false,
     "start_time": "2024-10-18T20:18:14.806793",
     "status": "completed"
    },
    "tags": []
   },
   "outputs": [],
   "source": [
    "import numpy as np\n",
    "import pandas as pd\n",
    "import matplotlib.pyplot as plt\n",
    "\n",
    "plt.style.use('ggplot')\n",
    "plt.rcParams['figure.figsize'] = (10, 10)              \n",
    "\n",
    "import sklearn\n",
    "import sklearn.datasets as datasets\n",
    "from sklearn.model_selection import train_test_split, GridSearchCV\n",
    "from sklearn.metrics import f1_score, classification_report, confusion_matrix"
   ]
  },
  {
   "cell_type": "code",
   "execution_count": 3,
   "id": "5022ad98",
   "metadata": {
    "execution": {
     "iopub.execute_input": "2024-10-18T20:18:16.900432Z",
     "iopub.status.busy": "2024-10-18T20:18:16.898895Z",
     "iopub.status.idle": "2024-10-18T20:18:16.925866Z",
     "shell.execute_reply": "2024-10-18T20:18:16.924549Z"
    },
    "papermill": {
     "duration": 0.040953,
     "end_time": "2024-10-18T20:18:16.928801",
     "exception": false,
     "start_time": "2024-10-18T20:18:16.887848",
     "status": "completed"
    },
    "tags": []
   },
   "outputs": [],
   "source": [
    "data = pd.read_csv('/kaggle/input/car-acceptability-classification-dataset/car.csv')"
   ]
  },
  {
   "cell_type": "code",
   "execution_count": 4,
   "id": "4a5b2ad3",
   "metadata": {
    "execution": {
     "iopub.execute_input": "2024-10-18T20:18:16.950527Z",
     "iopub.status.busy": "2024-10-18T20:18:16.950052Z",
     "iopub.status.idle": "2024-10-18T20:18:16.975716Z",
     "shell.execute_reply": "2024-10-18T20:18:16.974330Z"
    },
    "papermill": {
     "duration": 0.039962,
     "end_time": "2024-10-18T20:18:16.978775",
     "exception": false,
     "start_time": "2024-10-18T20:18:16.938813",
     "status": "completed"
    },
    "tags": []
   },
   "outputs": [
    {
     "data": {
      "text/html": [
       "<div>\n",
       "<style scoped>\n",
       "    .dataframe tbody tr th:only-of-type {\n",
       "        vertical-align: middle;\n",
       "    }\n",
       "\n",
       "    .dataframe tbody tr th {\n",
       "        vertical-align: top;\n",
       "    }\n",
       "\n",
       "    .dataframe thead th {\n",
       "        text-align: right;\n",
       "    }\n",
       "</style>\n",
       "<table border=\"1\" class=\"dataframe\">\n",
       "  <thead>\n",
       "    <tr style=\"text-align: right;\">\n",
       "      <th></th>\n",
       "      <th>Buying_Price</th>\n",
       "      <th>Maintenance_Price</th>\n",
       "      <th>No_of_Doors</th>\n",
       "      <th>Person_Capacity</th>\n",
       "      <th>Size_of_Luggage</th>\n",
       "      <th>Safety</th>\n",
       "      <th>Car_Acceptability</th>\n",
       "    </tr>\n",
       "  </thead>\n",
       "  <tbody>\n",
       "    <tr>\n",
       "      <th>0</th>\n",
       "      <td>vhigh</td>\n",
       "      <td>vhigh</td>\n",
       "      <td>2</td>\n",
       "      <td>2</td>\n",
       "      <td>small</td>\n",
       "      <td>low</td>\n",
       "      <td>unacc</td>\n",
       "    </tr>\n",
       "    <tr>\n",
       "      <th>1</th>\n",
       "      <td>vhigh</td>\n",
       "      <td>vhigh</td>\n",
       "      <td>2</td>\n",
       "      <td>2</td>\n",
       "      <td>small</td>\n",
       "      <td>med</td>\n",
       "      <td>unacc</td>\n",
       "    </tr>\n",
       "    <tr>\n",
       "      <th>2</th>\n",
       "      <td>vhigh</td>\n",
       "      <td>vhigh</td>\n",
       "      <td>2</td>\n",
       "      <td>2</td>\n",
       "      <td>small</td>\n",
       "      <td>high</td>\n",
       "      <td>unacc</td>\n",
       "    </tr>\n",
       "    <tr>\n",
       "      <th>3</th>\n",
       "      <td>vhigh</td>\n",
       "      <td>vhigh</td>\n",
       "      <td>2</td>\n",
       "      <td>2</td>\n",
       "      <td>med</td>\n",
       "      <td>low</td>\n",
       "      <td>unacc</td>\n",
       "    </tr>\n",
       "    <tr>\n",
       "      <th>4</th>\n",
       "      <td>vhigh</td>\n",
       "      <td>vhigh</td>\n",
       "      <td>2</td>\n",
       "      <td>2</td>\n",
       "      <td>med</td>\n",
       "      <td>med</td>\n",
       "      <td>unacc</td>\n",
       "    </tr>\n",
       "  </tbody>\n",
       "</table>\n",
       "</div>"
      ],
      "text/plain": [
       "  Buying_Price Maintenance_Price No_of_Doors Person_Capacity Size_of_Luggage  \\\n",
       "0        vhigh             vhigh           2               2           small   \n",
       "1        vhigh             vhigh           2               2           small   \n",
       "2        vhigh             vhigh           2               2           small   \n",
       "3        vhigh             vhigh           2               2             med   \n",
       "4        vhigh             vhigh           2               2             med   \n",
       "\n",
       "  Safety Car_Acceptability  \n",
       "0    low             unacc  \n",
       "1    med             unacc  \n",
       "2   high             unacc  \n",
       "3    low             unacc  \n",
       "4    med             unacc  "
      ]
     },
     "execution_count": 4,
     "metadata": {},
     "output_type": "execute_result"
    }
   ],
   "source": [
    "data.head()"
   ]
  },
  {
   "cell_type": "code",
   "execution_count": 5,
   "id": "5b4552af",
   "metadata": {
    "execution": {
     "iopub.execute_input": "2024-10-18T20:18:17.002176Z",
     "iopub.status.busy": "2024-10-18T20:18:17.001720Z",
     "iopub.status.idle": "2024-10-18T20:18:17.013436Z",
     "shell.execute_reply": "2024-10-18T20:18:17.012260Z"
    },
    "papermill": {
     "duration": 0.026072,
     "end_time": "2024-10-18T20:18:17.015953",
     "exception": false,
     "start_time": "2024-10-18T20:18:16.989881",
     "status": "completed"
    },
    "tags": []
   },
   "outputs": [
    {
     "data": {
      "text/plain": [
       "Buying_Price         0\n",
       "Maintenance_Price    0\n",
       "No_of_Doors          0\n",
       "Person_Capacity      0\n",
       "Size_of_Luggage      0\n",
       "Safety               0\n",
       "Car_Acceptability    0\n",
       "dtype: int64"
      ]
     },
     "execution_count": 5,
     "metadata": {},
     "output_type": "execute_result"
    }
   ],
   "source": [
    "data.isna().sum()"
   ]
  },
  {
   "cell_type": "code",
   "execution_count": 6,
   "id": "10ea5926",
   "metadata": {
    "execution": {
     "iopub.execute_input": "2024-10-18T20:18:17.038829Z",
     "iopub.status.busy": "2024-10-18T20:18:17.038058Z",
     "iopub.status.idle": "2024-10-18T20:18:17.072166Z",
     "shell.execute_reply": "2024-10-18T20:18:17.070962Z"
    },
    "papermill": {
     "duration": 0.04817,
     "end_time": "2024-10-18T20:18:17.074761",
     "exception": false,
     "start_time": "2024-10-18T20:18:17.026591",
     "status": "completed"
    },
    "tags": []
   },
   "outputs": [
    {
     "data": {
      "text/html": [
       "<div>\n",
       "<style scoped>\n",
       "    .dataframe tbody tr th:only-of-type {\n",
       "        vertical-align: middle;\n",
       "    }\n",
       "\n",
       "    .dataframe tbody tr th {\n",
       "        vertical-align: top;\n",
       "    }\n",
       "\n",
       "    .dataframe thead th {\n",
       "        text-align: right;\n",
       "    }\n",
       "</style>\n",
       "<table border=\"1\" class=\"dataframe\">\n",
       "  <thead>\n",
       "    <tr style=\"text-align: right;\">\n",
       "      <th></th>\n",
       "      <th>Buying_Price</th>\n",
       "      <th>Maintenance_Price</th>\n",
       "      <th>No_of_Doors</th>\n",
       "      <th>Person_Capacity</th>\n",
       "      <th>Size_of_Luggage</th>\n",
       "      <th>Safety</th>\n",
       "      <th>Car_Acceptability</th>\n",
       "    </tr>\n",
       "  </thead>\n",
       "  <tbody>\n",
       "    <tr>\n",
       "      <th>count</th>\n",
       "      <td>1728</td>\n",
       "      <td>1728</td>\n",
       "      <td>1728</td>\n",
       "      <td>1728</td>\n",
       "      <td>1728</td>\n",
       "      <td>1728</td>\n",
       "      <td>1728</td>\n",
       "    </tr>\n",
       "    <tr>\n",
       "      <th>unique</th>\n",
       "      <td>4</td>\n",
       "      <td>4</td>\n",
       "      <td>4</td>\n",
       "      <td>3</td>\n",
       "      <td>3</td>\n",
       "      <td>3</td>\n",
       "      <td>4</td>\n",
       "    </tr>\n",
       "    <tr>\n",
       "      <th>top</th>\n",
       "      <td>vhigh</td>\n",
       "      <td>vhigh</td>\n",
       "      <td>2</td>\n",
       "      <td>2</td>\n",
       "      <td>small</td>\n",
       "      <td>low</td>\n",
       "      <td>unacc</td>\n",
       "    </tr>\n",
       "    <tr>\n",
       "      <th>freq</th>\n",
       "      <td>432</td>\n",
       "      <td>432</td>\n",
       "      <td>432</td>\n",
       "      <td>576</td>\n",
       "      <td>576</td>\n",
       "      <td>576</td>\n",
       "      <td>1210</td>\n",
       "    </tr>\n",
       "  </tbody>\n",
       "</table>\n",
       "</div>"
      ],
      "text/plain": [
       "       Buying_Price Maintenance_Price No_of_Doors Person_Capacity  \\\n",
       "count          1728              1728        1728            1728   \n",
       "unique            4                 4           4               3   \n",
       "top           vhigh             vhigh           2               2   \n",
       "freq            432               432         432             576   \n",
       "\n",
       "       Size_of_Luggage Safety Car_Acceptability  \n",
       "count             1728   1728              1728  \n",
       "unique               3      3                 4  \n",
       "top              small    low             unacc  \n",
       "freq               576    576              1210  "
      ]
     },
     "execution_count": 6,
     "metadata": {},
     "output_type": "execute_result"
    }
   ],
   "source": [
    "data.describe()"
   ]
  },
  {
   "cell_type": "code",
   "execution_count": 7,
   "id": "c7d2c786",
   "metadata": {
    "execution": {
     "iopub.execute_input": "2024-10-18T20:18:17.099167Z",
     "iopub.status.busy": "2024-10-18T20:18:17.098314Z",
     "iopub.status.idle": "2024-10-18T20:18:17.110089Z",
     "shell.execute_reply": "2024-10-18T20:18:17.108921Z"
    },
    "papermill": {
     "duration": 0.026432,
     "end_time": "2024-10-18T20:18:17.112566",
     "exception": false,
     "start_time": "2024-10-18T20:18:17.086134",
     "status": "completed"
    },
    "tags": []
   },
   "outputs": [],
   "source": [
    "X = data.drop(columns=['Car_Acceptability'])\n",
    "y = data['Car_Acceptability']"
   ]
  },
  {
   "cell_type": "code",
   "execution_count": 8,
   "id": "e3b3e80f",
   "metadata": {
    "execution": {
     "iopub.execute_input": "2024-10-18T20:18:17.135679Z",
     "iopub.status.busy": "2024-10-18T20:18:17.135195Z",
     "iopub.status.idle": "2024-10-18T20:18:17.145924Z",
     "shell.execute_reply": "2024-10-18T20:18:17.144750Z"
    },
    "papermill": {
     "duration": 0.025427,
     "end_time": "2024-10-18T20:18:17.148605",
     "exception": false,
     "start_time": "2024-10-18T20:18:17.123178",
     "status": "completed"
    },
    "tags": []
   },
   "outputs": [
    {
     "name": "stderr",
     "output_type": "stream",
     "text": [
      "/tmp/ipykernel_17/876849864.py:3: FutureWarning: Downcasting behavior in `replace` is deprecated and will be removed in a future version. To retain the old behavior, explicitly call `result.infer_objects(copy=False)`. To opt-in to the future behavior, set `pd.set_option('future.no_silent_downcasting', True)`\n",
      "  y = y.replace(to_replace=unique_targets, value=list(target_dict.values()))\n"
     ]
    }
   ],
   "source": [
    "unique_targets = list(set(y))\n",
    "target_dict = dict(zip(unique_targets, range(len(unique_targets))))\n",
    "y = y.replace(to_replace=unique_targets, value=list(target_dict.values()))"
   ]
  },
  {
   "cell_type": "code",
   "execution_count": 9,
   "id": "f2a85bd6",
   "metadata": {
    "execution": {
     "iopub.execute_input": "2024-10-18T20:18:17.172185Z",
     "iopub.status.busy": "2024-10-18T20:18:17.171744Z",
     "iopub.status.idle": "2024-10-18T20:18:17.181546Z",
     "shell.execute_reply": "2024-10-18T20:18:17.180311Z"
    },
    "papermill": {
     "duration": 0.024677,
     "end_time": "2024-10-18T20:18:17.184126",
     "exception": false,
     "start_time": "2024-10-18T20:18:17.159449",
     "status": "completed"
    },
    "tags": []
   },
   "outputs": [
    {
     "data": {
      "text/plain": [
       "0       3\n",
       "1       3\n",
       "2       3\n",
       "3       3\n",
       "4       3\n",
       "       ..\n",
       "1723    0\n",
       "1724    1\n",
       "1725    3\n",
       "1726    0\n",
       "1727    1\n",
       "Name: Car_Acceptability, Length: 1728, dtype: int64"
      ]
     },
     "execution_count": 9,
     "metadata": {},
     "output_type": "execute_result"
    }
   ],
   "source": [
    "y"
   ]
  },
  {
   "cell_type": "code",
   "execution_count": 10,
   "id": "6bd2c1dd",
   "metadata": {
    "execution": {
     "iopub.execute_input": "2024-10-18T20:18:17.207894Z",
     "iopub.status.busy": "2024-10-18T20:18:17.207137Z",
     "iopub.status.idle": "2024-10-18T20:18:17.275291Z",
     "shell.execute_reply": "2024-10-18T20:18:17.273960Z"
    },
    "papermill": {
     "duration": 0.083172,
     "end_time": "2024-10-18T20:18:17.278042",
     "exception": false,
     "start_time": "2024-10-18T20:18:17.194870",
     "status": "completed"
    },
    "tags": []
   },
   "outputs": [
    {
     "name": "stdout",
     "output_type": "stream",
     "text": [
      "       Buying_Price_high Buying_Price_low Buying_Price_med Buying_Price_vhigh  \\\n",
      "count               1728             1728             1728               1728   \n",
      "unique                 2                2                2                  2   \n",
      "top                False            False            False              False   \n",
      "freq                1296             1296             1296               1296   \n",
      "\n",
      "       Maintenance_Price_high Maintenance_Price_low Maintenance_Price_med  \\\n",
      "count                    1728                  1728                  1728   \n",
      "unique                      2                     2                     2   \n",
      "top                     False                 False                 False   \n",
      "freq                     1296                  1296                  1296   \n",
      "\n",
      "       Maintenance_Price_vhigh No_of_Doors_2 No_of_Doors_3  ...  \\\n",
      "count                     1728          1728          1728  ...   \n",
      "unique                       2             2             2  ...   \n",
      "top                      False         False         False  ...   \n",
      "freq                      1296          1296          1296  ...   \n",
      "\n",
      "       No_of_Doors_5more Person_Capacity_2 Person_Capacity_4  \\\n",
      "count               1728              1728              1728   \n",
      "unique                 2                 2                 2   \n",
      "top                False             False             False   \n",
      "freq                1296              1152              1152   \n",
      "\n",
      "       Person_Capacity_more Size_of_Luggage_big Size_of_Luggage_med  \\\n",
      "count                  1728                1728                1728   \n",
      "unique                    2                   2                   2   \n",
      "top                   False               False               False   \n",
      "freq                   1152                1152                1152   \n",
      "\n",
      "       Size_of_Luggage_small Safety_high Safety_low Safety_med  \n",
      "count                   1728        1728       1728       1728  \n",
      "unique                     2           2          2          2  \n",
      "top                    False       False      False      False  \n",
      "freq                    1152        1152       1152       1152  \n",
      "\n",
      "[4 rows x 21 columns]\n"
     ]
    }
   ],
   "source": [
    "X_dummies = pd.get_dummies(X, prefix=X.columns)\n",
    "X_dummies = X_dummies[X_dummies.columns].astype('category')\n",
    "print(X_dummies.describe())\n",
    "X_dummies = X_dummies[X_dummies.columns].astype('float')"
   ]
  },
  {
   "cell_type": "code",
   "execution_count": 11,
   "id": "d46b7dc1",
   "metadata": {
    "execution": {
     "iopub.execute_input": "2024-10-18T20:18:17.301861Z",
     "iopub.status.busy": "2024-10-18T20:18:17.301443Z",
     "iopub.status.idle": "2024-10-18T20:18:17.315769Z",
     "shell.execute_reply": "2024-10-18T20:18:17.314420Z"
    },
    "papermill": {
     "duration": 0.029243,
     "end_time": "2024-10-18T20:18:17.318180",
     "exception": false,
     "start_time": "2024-10-18T20:18:17.288937",
     "status": "completed"
    },
    "tags": []
   },
   "outputs": [
    {
     "name": "stdout",
     "output_type": "stream",
     "text": [
      "(1382, 21)\n",
      "(346, 21)\n"
     ]
    }
   ],
   "source": [
    "test_ratio = 0.2\n",
    "\n",
    "X_train, X_test, Y_train, Y_test = train_test_split(X_dummies, \n",
    "                                                    y, \n",
    "                                                    test_size = test_ratio, \n",
    "                                                    random_state=123)\n",
    "\n",
    "print(X_train.shape)\n",
    "print(X_test.shape)"
   ]
  },
  {
   "cell_type": "code",
   "execution_count": 12,
   "id": "caf80b35",
   "metadata": {
    "execution": {
     "iopub.execute_input": "2024-10-18T20:18:17.342066Z",
     "iopub.status.busy": "2024-10-18T20:18:17.341628Z",
     "iopub.status.idle": "2024-10-18T20:18:17.706689Z",
     "shell.execute_reply": "2024-10-18T20:18:17.705274Z"
    },
    "papermill": {
     "duration": 0.3802,
     "end_time": "2024-10-18T20:18:17.709493",
     "exception": false,
     "start_time": "2024-10-18T20:18:17.329293",
     "status": "completed"
    },
    "tags": []
   },
   "outputs": [
    {
     "name": "stdout",
     "output_type": "stream",
     "text": [
      "{'good': 0, 'vgood': 1, 'acc': 2, 'unacc': 3}\n"
     ]
    },
    {
     "data": {
      "image/png": "[encoded data removed]",
      "text/plain": [
       "<Figure size 1000x1000 with 1 Axes>"
      ]
     },
     "metadata": {},
     "output_type": "display_data"
    }
   ],
   "source": [
    "plt.hist(y)\n",
    "print(target_dict)"
   ]
  },
  {
   "cell_type": "markdown",
   "id": "0010b76c",
   "metadata": {
    "papermill": {
     "duration": 0.011172,
     "end_time": "2024-10-18T20:18:17.732138",
     "exception": false,
     "start_time": "2024-10-18T20:18:17.720966",
     "status": "completed"
    },
    "tags": []
   },
   "source": [
    "**Unbalanced classes**"
   ]
  },
  {
   "cell_type": "markdown",
   "id": "4a099b5a",
   "metadata": {
    "papermill": {
     "duration": 0.011113,
     "end_time": "2024-10-18T20:18:17.754660",
     "exception": false,
     "start_time": "2024-10-18T20:18:17.743547",
     "status": "completed"
    },
    "tags": []
   },
   "source": [
    "# Logistic Regression"
   ]
  },
  {
   "cell_type": "code",
   "execution_count": 13,
   "id": "42bd15a4",
   "metadata": {
    "execution": {
     "iopub.execute_input": "2024-10-18T20:18:17.779326Z",
     "iopub.status.busy": "2024-10-18T20:18:17.778871Z",
     "iopub.status.idle": "2024-10-18T20:18:33.712333Z",
     "shell.execute_reply": "2024-10-18T20:18:33.711027Z"
    },
    "papermill": {
     "duration": 15.948696,
     "end_time": "2024-10-18T20:18:33.714861",
     "exception": false,
     "start_time": "2024-10-18T20:18:17.766165",
     "status": "completed"
    },
    "tags": []
   },
   "outputs": [
    {
     "name": "stderr",
     "output_type": "stream",
     "text": [
      "/opt/conda/lib/python3.10/site-packages/sklearn/linear_model/_logistic.py:446: RuntimeWarning: divide by zero encountered in scalar divide\n",
      "  l2_reg_strength = 1.0 / C\n",
      "/opt/conda/lib/python3.10/site-packages/sklearn/linear_model/_linear_loss.py:172: RuntimeWarning: invalid value encountered in scalar multiply\n",
      "  return 0.5 * l2_reg_strength * norm2_w\n",
      "/opt/conda/lib/python3.10/site-packages/sklearn/linear_model/_linear_loss.py:295: RuntimeWarning: invalid value encountered in multiply\n",
      "  grad[:, :n_features] = grad_pointwise.T @ X + l2_reg_strength * weights\n",
      "/opt/conda/lib/python3.10/site-packages/sklearn/linear_model/_logistic.py:458: ConvergenceWarning: lbfgs failed to converge (status=2):\n",
      "ABNORMAL_TERMINATION_IN_LNSRCH.\n",
      "\n",
      "Increase the number of iterations (max_iter) or scale the data as shown in:\n",
      "    https://scikit-learn.org/stable/modules/preprocessing.html\n",
      "Please also refer to the documentation for alternative solver options:\n",
      "    https://scikit-learn.org/stable/modules/linear_model.html#logistic-regression\n",
      "  n_iter_i = _check_optimize_result(\n",
      "/opt/conda/lib/python3.10/site-packages/sklearn/linear_model/_logistic.py:446: RuntimeWarning: divide by zero encountered in scalar divide\n",
      "  l2_reg_strength = 1.0 / C\n",
      "/opt/conda/lib/python3.10/site-packages/sklearn/linear_model/_linear_loss.py:172: RuntimeWarning: invalid value encountered in scalar multiply\n",
      "  return 0.5 * l2_reg_strength * norm2_w\n",
      "/opt/conda/lib/python3.10/site-packages/sklearn/linear_model/_linear_loss.py:295: RuntimeWarning: invalid value encountered in multiply\n",
      "  grad[:, :n_features] = grad_pointwise.T @ X + l2_reg_strength * weights\n",
      "/opt/conda/lib/python3.10/site-packages/sklearn/linear_model/_logistic.py:458: ConvergenceWarning: lbfgs failed to converge (status=2):\n",
      "ABNORMAL_TERMINATION_IN_LNSRCH.\n",
      "\n",
      "Increase the number of iterations (max_iter) or scale the data as shown in:\n",
      "    https://scikit-learn.org/stable/modules/preprocessing.html\n",
      "Please also refer to the documentation for alternative solver options:\n",
      "    https://scikit-learn.org/stable/modules/linear_model.html#logistic-regression\n",
      "  n_iter_i = _check_optimize_result(\n",
      "/opt/conda/lib/python3.10/site-packages/sklearn/linear_model/_logistic.py:446: RuntimeWarning: divide by zero encountered in scalar divide\n",
      "  l2_reg_strength = 1.0 / C\n",
      "/opt/conda/lib/python3.10/site-packages/sklearn/linear_model/_linear_loss.py:172: RuntimeWarning: invalid value encountered in scalar multiply\n",
      "  return 0.5 * l2_reg_strength * norm2_w\n",
      "/opt/conda/lib/python3.10/site-packages/sklearn/linear_model/_linear_loss.py:295: RuntimeWarning: invalid value encountered in multiply\n",
      "  grad[:, :n_features] = grad_pointwise.T @ X + l2_reg_strength * weights\n",
      "/opt/conda/lib/python3.10/site-packages/sklearn/linear_model/_logistic.py:458: ConvergenceWarning: lbfgs failed to converge (status=2):\n",
      "ABNORMAL_TERMINATION_IN_LNSRCH.\n",
      "\n",
      "Increase the number of iterations (max_iter) or scale the data as shown in:\n",
      "    https://scikit-learn.org/stable/modules/preprocessing.html\n",
      "Please also refer to the documentation for alternative solver options:\n",
      "    https://scikit-learn.org/stable/modules/linear_model.html#logistic-regression\n",
      "  n_iter_i = _check_optimize_result(\n",
      "/opt/conda/lib/python3.10/site-packages/sklearn/linear_model/_logistic.py:446: RuntimeWarning: divide by zero encountered in scalar divide\n",
      "  l2_reg_strength = 1.0 / C\n",
      "/opt/conda/lib/python3.10/site-packages/sklearn/linear_model/_linear_loss.py:172: RuntimeWarning: invalid value encountered in scalar multiply\n",
      "  return 0.5 * l2_reg_strength * norm2_w\n",
      "/opt/conda/lib/python3.10/site-packages/sklearn/linear_model/_linear_loss.py:295: RuntimeWarning: invalid value encountered in multiply\n",
      "  grad[:, :n_features] = grad_pointwise.T @ X + l2_reg_strength * weights\n",
      "/opt/conda/lib/python3.10/site-packages/sklearn/linear_model/_logistic.py:458: ConvergenceWarning: lbfgs failed to converge (status=2):\n",
      "ABNORMAL_TERMINATION_IN_LNSRCH.\n",
      "\n",
      "Increase the number of iterations (max_iter) or scale the data as shown in:\n",
      "    https://scikit-learn.org/stable/modules/preprocessing.html\n",
      "Please also refer to the documentation for alternative solver options:\n",
      "    https://scikit-learn.org/stable/modules/linear_model.html#logistic-regression\n",
      "  n_iter_i = _check_optimize_result(\n",
      "/opt/conda/lib/python3.10/site-packages/sklearn/linear_model/_logistic.py:458: ConvergenceWarning: lbfgs failed to converge (status=1):\n",
      "STOP: TOTAL NO. of ITERATIONS REACHED LIMIT.\n",
      "\n",
      "Increase the number of iterations (max_iter) or scale the data as shown in:\n",
      "    https://scikit-learn.org/stable/modules/preprocessing.html\n",
      "Please also refer to the documentation for alternative solver options:\n",
      "    https://scikit-learn.org/stable/modules/linear_model.html#logistic-regression\n",
      "  n_iter_i = _check_optimize_result(\n"
     ]
    },
    {
     "data": {
      "text/plain": [
       "0.9442836468885673"
      ]
     },
     "execution_count": 13,
     "metadata": {},
     "output_type": "execute_result"
    }
   ],
   "source": [
    "from sklearn.linear_model import LogisticRegression, LogisticRegressionCV\n",
    "\n",
    "model_logistic = LogisticRegressionCV(Cs = np.linspace(0, 20, 200), cv = 4)\n",
    "model_logistic.fit(X_train, Y_train)\n",
    "model_logistic.score(X_train, Y_train)"
   ]
  },
  {
   "cell_type": "code",
   "execution_count": 14,
   "id": "fefe0581",
   "metadata": {
    "execution": {
     "iopub.execute_input": "2024-10-18T20:18:33.741167Z",
     "iopub.status.busy": "2024-10-18T20:18:33.740708Z",
     "iopub.status.idle": "2024-10-18T20:18:33.754449Z",
     "shell.execute_reply": "2024-10-18T20:18:33.753187Z"
    },
    "papermill": {
     "duration": 0.029998,
     "end_time": "2024-10-18T20:18:33.757082",
     "exception": false,
     "start_time": "2024-10-18T20:18:33.727084",
     "status": "completed"
    },
    "tags": []
   },
   "outputs": [
    {
     "data": {
      "text/plain": [
       "array([[ 11,   2,   0,   0],\n",
       "       [  0,  11,   1,   0],\n",
       "       [  2,   1,  77,   4],\n",
       "       [  0,   0,  14, 223]])"
      ]
     },
     "execution_count": 14,
     "metadata": {},
     "output_type": "execute_result"
    }
   ],
   "source": [
    "preds = model_logistic.predict(X_test)\n",
    "confusion_matrix(Y_test, preds)"
   ]
  },
  {
   "cell_type": "code",
   "execution_count": 15,
   "id": "571e93ef",
   "metadata": {
    "execution": {
     "iopub.execute_input": "2024-10-18T20:18:33.784259Z",
     "iopub.status.busy": "2024-10-18T20:18:33.783406Z",
     "iopub.status.idle": "2024-10-18T20:18:33.799478Z",
     "shell.execute_reply": "2024-10-18T20:18:33.798188Z"
    },
    "papermill": {
     "duration": 0.032408,
     "end_time": "2024-10-18T20:18:33.801919",
     "exception": false,
     "start_time": "2024-10-18T20:18:33.769511",
     "status": "completed"
    },
    "tags": []
   },
   "outputs": [
    {
     "name": "stdout",
     "output_type": "stream",
     "text": [
      "              precision    recall  f1-score   support\n",
      "\n",
      "        good       0.85      0.85      0.85        13\n",
      "       vgood       0.79      0.92      0.85        12\n",
      "         acc       0.84      0.92      0.88        84\n",
      "       unacc       0.98      0.94      0.96       237\n",
      "\n",
      "    accuracy                           0.93       346\n",
      "   macro avg       0.86      0.91      0.88       346\n",
      "weighted avg       0.94      0.93      0.93       346\n",
      "\n"
     ]
    }
   ],
   "source": [
    "print(classification_report(Y_test, preds, target_names = unique_targets))"
   ]
  },
  {
   "cell_type": "markdown",
   "id": "f9eedb94",
   "metadata": {
    "papermill": {
     "duration": 0.011942,
     "end_time": "2024-10-18T20:18:33.826496",
     "exception": false,
     "start_time": "2024-10-18T20:18:33.814554",
     "status": "completed"
    },
    "tags": []
   },
   "source": [
    "# KNN"
   ]
  },
  {
   "cell_type": "code",
   "execution_count": 16,
   "id": "cfd980b3",
   "metadata": {
    "execution": {
     "iopub.execute_input": "2024-10-18T20:18:33.853480Z",
     "iopub.status.busy": "2024-10-18T20:18:33.852602Z",
     "iopub.status.idle": "2024-10-18T20:18:33.930175Z",
     "shell.execute_reply": "2024-10-18T20:18:33.929054Z"
    },
    "papermill": {
     "duration": 0.09423,
     "end_time": "2024-10-18T20:18:33.932953",
     "exception": false,
     "start_time": "2024-10-18T20:18:33.838723",
     "status": "completed"
    },
    "tags": []
   },
   "outputs": [],
   "source": [
    "from sklearn.neighbors import KNeighborsClassifier\n",
    "\n",
    "number_of_neighbors = np.arange(3, 25, 2)\n",
    "model_KNN = KNeighborsClassifier()\n",
    "params = {\"n_neighbors\": number_of_neighbors}\n",
    "\n",
    "grid_search = GridSearchCV(estimator = model_KNN, \n",
    "                           param_grid = params, cv = 6)"
   ]
  },
  {
   "cell_type": "code",
   "execution_count": 17,
   "id": "5daa07cd",
   "metadata": {
    "execution": {
     "iopub.execute_input": "2024-10-18T20:18:33.960663Z",
     "iopub.status.busy": "2024-10-18T20:18:33.959728Z",
     "iopub.status.idle": "2024-10-18T20:18:35.914485Z",
     "shell.execute_reply": "2024-10-18T20:18:35.913010Z"
    },
    "papermill": {
     "duration": 1.97167,
     "end_time": "2024-10-18T20:18:35.917221",
     "exception": false,
     "start_time": "2024-10-18T20:18:33.945551",
     "status": "completed"
    },
    "tags": []
   },
   "outputs": [
    {
     "data": {
      "text/html": [
       "<style>#sk-container-id-1 {color: black;background-color: white;}#sk-container-id-1 pre{padding: 0;}#sk-container-id-1 div.sk-toggleable {background-color: white;}#sk-container-id-1 label.sk-toggleable__label {cursor: pointer;display: block;width: 100%;margin-bottom: 0;padding: 0.3em;box-sizing: border-box;text-align: center;}#sk-container-id-1 label.sk-toggleable__label-arrow:before {content: \"▸\";float: left;margin-right: 0.25em;color: #696969;}#sk-container-id-1 label.sk-toggleable__label-arrow:hover:before {color: black;}#sk-container-id-1 div.sk-estimator:hover label.sk-toggleable__label-arrow:before {color: black;}#sk-container-id-1 div.sk-toggleable__content {max-height: 0;max-width: 0;overflow: hidden;text-align: left;background-color: #f0f8ff;}#sk-container-id-1 div.sk-toggleable__content pre {margin: 0.2em;color: black;border-radius: 0.25em;background-color: #f0f8ff;}#sk-container-id-1 input.sk-toggleable__control:checked~div.sk-toggleable__content {max-height: 200px;max-width: 100%;overflow: auto;}#sk-container-id-1 input.sk-toggleable__control:checked~label.sk-toggleable__label-arrow:before {content: \"▾\";}#sk-container-id-1 div.sk-estimator input.sk-toggleable__control:checked~label.sk-toggleable__label {background-color: #d4ebff;}#sk-container-id-1 div.sk-label input.sk-toggleable__control:checked~label.sk-toggleable__label {background-color: #d4ebff;}#sk-container-id-1 input.sk-hidden--visually {border: 0;clip: rect(1px 1px 1px 1px);clip: rect(1px, 1px, 1px, 1px);height: 1px;margin: -1px;overflow: hidden;padding: 0;position: absolute;width: 1px;}#sk-container-id-1 div.sk-estimator {font-family: monospace;background-color: #f0f8ff;border: 1px dotted black;border-radius: 0.25em;box-sizing: border-box;margin-bottom: 0.5em;}#sk-container-id-1 div.sk-estimator:hover {background-color: #d4ebff;}#sk-container-id-1 div.sk-parallel-item::after {content: \"\";width: 100%;border-bottom: 1px solid gray;flex-grow: 1;}#sk-container-id-1 div.sk-label:hover label.sk-toggleable__label {background-color: #d4ebff;}#sk-container-id-1 div.sk-serial::before {content: \"\";position: absolute;border-left: 1px solid gray;box-sizing: border-box;top: 0;bottom: 0;left: 50%;z-index: 0;}#sk-container-id-1 div.sk-serial {display: flex;flex-direction: column;align-items: center;background-color: white;padding-right: 0.2em;padding-left: 0.2em;position: relative;}#sk-container-id-1 div.sk-item {position: relative;z-index: 1;}#sk-container-id-1 div.sk-parallel {display: flex;align-items: stretch;justify-content: center;background-color: white;position: relative;}#sk-container-id-1 div.sk-item::before, #sk-container-id-1 div.sk-parallel-item::before {content: \"\";position: absolute;border-left: 1px solid gray;box-sizing: border-box;top: 0;bottom: 0;left: 50%;z-index: -1;}#sk-container-id-1 div.sk-parallel-item {display: flex;flex-direction: column;z-index: 1;position: relative;background-color: white;}#sk-container-id-1 div.sk-parallel-item:first-child::after {align-self: flex-end;width: 50%;}#sk-container-id-1 div.sk-parallel-item:last-child::after {align-self: flex-start;width: 50%;}#sk-container-id-1 div.sk-parallel-item:only-child::after {width: 0;}#sk-container-id-1 div.sk-dashed-wrapped {border: 1px dashed gray;margin: 0 0.4em 0.5em 0.4em;box-sizing: border-box;padding-bottom: 0.4em;background-color: white;}#sk-container-id-1 div.sk-label label {font-family: monospace;font-weight: bold;display: inline-block;line-height: 1.2em;}#sk-container-id-1 div.sk-label-container {text-align: center;}#sk-container-id-1 div.sk-container {/* jupyter's `normalize.less` sets `[hidden] { display: none; }` but bootstrap.min.css set `[hidden] { display: none !important; }` so we also need the `!important` here to be able to override the default hidden behavior on the sphinx rendered scikit-learn.org. See: https://github.com/scikit-learn/scikit-learn/issues/21755 */display: inline-block !important;position: relative;}#sk-container-id-1 div.sk-text-repr-fallback {display: none;}</style><div id=\"sk-container-id-1\" class=\"sk-top-container\"><div class=\"sk-text-repr-fallback\"><pre>GridSearchCV(cv=6, estimator=KNeighborsClassifier(),\n",
       "             param_grid={&#x27;n_neighbors&#x27;: array([ 3,  5,  7,  9, 11, 13, 15, 17, 19, 21, 23])})</pre><b>In a Jupyter environment, please rerun this cell to show the HTML representation or trust the notebook. <br />On GitHub, the HTML representation is unable to render, please try loading this page with nbviewer.org.</b></div><div class=\"sk-container\" hidden><div class=\"sk-item sk-dashed-wrapped\"><div class=\"sk-label-container\"><div class=\"sk-label sk-toggleable\"><input class=\"sk-toggleable__control sk-hidden--visually\" id=\"sk-estimator-id-1\" type=\"checkbox\" ><label for=\"sk-estimator-id-1\" class=\"sk-toggleable__label sk-toggleable__label-arrow\">GridSearchCV</label><div class=\"sk-toggleable__content\"><pre>GridSearchCV(cv=6, estimator=KNeighborsClassifier(),\n",
       "             param_grid={&#x27;n_neighbors&#x27;: array([ 3,  5,  7,  9, 11, 13, 15, 17, 19, 21, 23])})</pre></div></div></div><div class=\"sk-parallel\"><div class=\"sk-parallel-item\"><div class=\"sk-item\"><div class=\"sk-label-container\"><div class=\"sk-label sk-toggleable\"><input class=\"sk-toggleable__control sk-hidden--visually\" id=\"sk-estimator-id-2\" type=\"checkbox\" ><label for=\"sk-estimator-id-2\" class=\"sk-toggleable__label sk-toggleable__label-arrow\">estimator: KNeighborsClassifier</label><div class=\"sk-toggleable__content\"><pre>KNeighborsClassifier()</pre></div></div></div><div class=\"sk-serial\"><div class=\"sk-item\"><div class=\"sk-estimator sk-toggleable\"><input class=\"sk-toggleable__control sk-hidden--visually\" id=\"sk-estimator-id-3\" type=\"checkbox\" ><label for=\"sk-estimator-id-3\" class=\"sk-toggleable__label sk-toggleable__label-arrow\">KNeighborsClassifier</label><div class=\"sk-toggleable__content\"><pre>KNeighborsClassifier()</pre></div></div></div></div></div></div></div></div></div></div>"
      ],
      "text/plain": [
       "GridSearchCV(cv=6, estimator=KNeighborsClassifier(),\n",
       "             param_grid={'n_neighbors': array([ 3,  5,  7,  9, 11, 13, 15, 17, 19, 21, 23])})"
      ]
     },
     "execution_count": 17,
     "metadata": {},
     "output_type": "execute_result"
    }
   ],
   "source": [
    "grid_search.fit(X_train, Y_train)"
   ]
  },
  {
   "cell_type": "code",
   "execution_count": 18,
   "id": "d743631f",
   "metadata": {
    "execution": {
     "iopub.execute_input": "2024-10-18T20:18:35.944710Z",
     "iopub.status.busy": "2024-10-18T20:18:35.944247Z",
     "iopub.status.idle": "2024-10-18T20:18:35.951719Z",
     "shell.execute_reply": "2024-10-18T20:18:35.950608Z"
    },
    "papermill": {
     "duration": 0.024226,
     "end_time": "2024-10-18T20:18:35.954384",
     "exception": false,
     "start_time": "2024-10-18T20:18:35.930158",
     "status": "completed"
    },
    "tags": []
   },
   "outputs": [
    {
     "data": {
      "text/plain": [
       "0.92258924650229"
      ]
     },
     "execution_count": 18,
     "metadata": {},
     "output_type": "execute_result"
    }
   ],
   "source": [
    "grid_search.best_score_"
   ]
  },
  {
   "cell_type": "code",
   "execution_count": 19,
   "id": "a6f77b0f",
   "metadata": {
    "execution": {
     "iopub.execute_input": "2024-10-18T20:18:35.982143Z",
     "iopub.status.busy": "2024-10-18T20:18:35.981692Z",
     "iopub.status.idle": "2024-10-18T20:18:35.990374Z",
     "shell.execute_reply": "2024-10-18T20:18:35.989071Z"
    },
    "papermill": {
     "duration": 0.0256,
     "end_time": "2024-10-18T20:18:35.993011",
     "exception": false,
     "start_time": "2024-10-18T20:18:35.967411",
     "status": "completed"
    },
    "tags": []
   },
   "outputs": [
    {
     "data": {
      "text/html": [
       "<style>#sk-container-id-2 {color: black;background-color: white;}#sk-container-id-2 pre{padding: 0;}#sk-container-id-2 div.sk-toggleable {background-color: white;}#sk-container-id-2 label.sk-toggleable__label {cursor: pointer;display: block;width: 100%;margin-bottom: 0;padding: 0.3em;box-sizing: border-box;text-align: center;}#sk-container-id-2 label.sk-toggleable__label-arrow:before {content: \"▸\";float: left;margin-right: 0.25em;color: #696969;}#sk-container-id-2 label.sk-toggleable__label-arrow:hover:before {color: black;}#sk-container-id-2 div.sk-estimator:hover label.sk-toggleable__label-arrow:before {color: black;}#sk-container-id-2 div.sk-toggleable__content {max-height: 0;max-width: 0;overflow: hidden;text-align: left;background-color: #f0f8ff;}#sk-container-id-2 div.sk-toggleable__content pre {margin: 0.2em;color: black;border-radius: 0.25em;background-color: #f0f8ff;}#sk-container-id-2 input.sk-toggleable__control:checked~div.sk-toggleable__content {max-height: 200px;max-width: 100%;overflow: auto;}#sk-container-id-2 input.sk-toggleable__control:checked~label.sk-toggleable__label-arrow:before {content: \"▾\";}#sk-container-id-2 div.sk-estimator input.sk-toggleable__control:checked~label.sk-toggleable__label {background-color: #d4ebff;}#sk-container-id-2 div.sk-label input.sk-toggleable__control:checked~label.sk-toggleable__label {background-color: #d4ebff;}#sk-container-id-2 input.sk-hidden--visually {border: 0;clip: rect(1px 1px 1px 1px);clip: rect(1px, 1px, 1px, 1px);height: 1px;margin: -1px;overflow: hidden;padding: 0;position: absolute;width: 1px;}#sk-container-id-2 div.sk-estimator {font-family: monospace;background-color: #f0f8ff;border: 1px dotted black;border-radius: 0.25em;box-sizing: border-box;margin-bottom: 0.5em;}#sk-container-id-2 div.sk-estimator:hover {background-color: #d4ebff;}#sk-container-id-2 div.sk-parallel-item::after {content: \"\";width: 100%;border-bottom: 1px solid gray;flex-grow: 1;}#sk-container-id-2 div.sk-label:hover label.sk-toggleable__label {background-color: #d4ebff;}#sk-container-id-2 div.sk-serial::before {content: \"\";position: absolute;border-left: 1px solid gray;box-sizing: border-box;top: 0;bottom: 0;left: 50%;z-index: 0;}#sk-container-id-2 div.sk-serial {display: flex;flex-direction: column;align-items: center;background-color: white;padding-right: 0.2em;padding-left: 0.2em;position: relative;}#sk-container-id-2 div.sk-item {position: relative;z-index: 1;}#sk-container-id-2 div.sk-parallel {display: flex;align-items: stretch;justify-content: center;background-color: white;position: relative;}#sk-container-id-2 div.sk-item::before, #sk-container-id-2 div.sk-parallel-item::before {content: \"\";position: absolute;border-left: 1px solid gray;box-sizing: border-box;top: 0;bottom: 0;left: 50%;z-index: -1;}#sk-container-id-2 div.sk-parallel-item {display: flex;flex-direction: column;z-index: 1;position: relative;background-color: white;}#sk-container-id-2 div.sk-parallel-item:first-child::after {align-self: flex-end;width: 50%;}#sk-container-id-2 div.sk-parallel-item:last-child::after {align-self: flex-start;width: 50%;}#sk-container-id-2 div.sk-parallel-item:only-child::after {width: 0;}#sk-container-id-2 div.sk-dashed-wrapped {border: 1px dashed gray;margin: 0 0.4em 0.5em 0.4em;box-sizing: border-box;padding-bottom: 0.4em;background-color: white;}#sk-container-id-2 div.sk-label label {font-family: monospace;font-weight: bold;display: inline-block;line-height: 1.2em;}#sk-container-id-2 div.sk-label-container {text-align: center;}#sk-container-id-2 div.sk-container {/* jupyter's `normalize.less` sets `[hidden] { display: none; }` but bootstrap.min.css set `[hidden] { display: none !important; }` so we also need the `!important` here to be able to override the default hidden behavior on the sphinx rendered scikit-learn.org. See: https://github.com/scikit-learn/scikit-learn/issues/21755 */display: inline-block !important;position: relative;}#sk-container-id-2 div.sk-text-repr-fallback {display: none;}</style><div id=\"sk-container-id-2\" class=\"sk-top-container\"><div class=\"sk-text-repr-fallback\"><pre>KNeighborsClassifier(n_neighbors=9)</pre><b>In a Jupyter environment, please rerun this cell to show the HTML representation or trust the notebook. <br />On GitHub, the HTML representation is unable to render, please try loading this page with nbviewer.org.</b></div><div class=\"sk-container\" hidden><div class=\"sk-item\"><div class=\"sk-estimator sk-toggleable\"><input class=\"sk-toggleable__control sk-hidden--visually\" id=\"sk-estimator-id-4\" type=\"checkbox\" checked><label for=\"sk-estimator-id-4\" class=\"sk-toggleable__label sk-toggleable__label-arrow\">KNeighborsClassifier</label><div class=\"sk-toggleable__content\"><pre>KNeighborsClassifier(n_neighbors=9)</pre></div></div></div></div></div>"
      ],
      "text/plain": [
       "KNeighborsClassifier(n_neighbors=9)"
      ]
     },
     "execution_count": 19,
     "metadata": {},
     "output_type": "execute_result"
    }
   ],
   "source": [
    "grid_search.best_estimator_"
   ]
  },
  {
   "cell_type": "code",
   "execution_count": 20,
   "id": "62014359",
   "metadata": {
    "execution": {
     "iopub.execute_input": "2024-10-18T20:18:36.021231Z",
     "iopub.status.busy": "2024-10-18T20:18:36.020769Z",
     "iopub.status.idle": "2024-10-18T20:18:36.058841Z",
     "shell.execute_reply": "2024-10-18T20:18:36.057598Z"
    },
    "papermill": {
     "duration": 0.055547,
     "end_time": "2024-10-18T20:18:36.061723",
     "exception": false,
     "start_time": "2024-10-18T20:18:36.006176",
     "status": "completed"
    },
    "tags": []
   },
   "outputs": [],
   "source": [
    "preds_knn = grid_search.predict(X_test)"
   ]
  },
  {
   "cell_type": "code",
   "execution_count": 21,
   "id": "a8670546",
   "metadata": {
    "execution": {
     "iopub.execute_input": "2024-10-18T20:18:36.090129Z",
     "iopub.status.busy": "2024-10-18T20:18:36.089210Z",
     "iopub.status.idle": "2024-10-18T20:18:36.099336Z",
     "shell.execute_reply": "2024-10-18T20:18:36.097952Z"
    },
    "papermill": {
     "duration": 0.026914,
     "end_time": "2024-10-18T20:18:36.101787",
     "exception": false,
     "start_time": "2024-10-18T20:18:36.074873",
     "status": "completed"
    },
    "tags": []
   },
   "outputs": [
    {
     "data": {
      "text/plain": [
       "array([[  5,   1,   7,   0],\n",
       "       [  1,  10,   1,   0],\n",
       "       [  0,   2,  75,   7],\n",
       "       [  0,   0,   6, 231]])"
      ]
     },
     "execution_count": 21,
     "metadata": {},
     "output_type": "execute_result"
    }
   ],
   "source": [
    "confusion_matrix(Y_test, preds_knn)"
   ]
  },
  {
   "cell_type": "code",
   "execution_count": 22,
   "id": "00d724df",
   "metadata": {
    "execution": {
     "iopub.execute_input": "2024-10-18T20:18:36.130401Z",
     "iopub.status.busy": "2024-10-18T20:18:36.129905Z",
     "iopub.status.idle": "2024-10-18T20:18:36.146678Z",
     "shell.execute_reply": "2024-10-18T20:18:36.145173Z"
    },
    "papermill": {
     "duration": 0.034356,
     "end_time": "2024-10-18T20:18:36.149360",
     "exception": false,
     "start_time": "2024-10-18T20:18:36.115004",
     "status": "completed"
    },
    "tags": []
   },
   "outputs": [
    {
     "name": "stdout",
     "output_type": "stream",
     "text": [
      "              precision    recall  f1-score   support\n",
      "\n",
      "           0       0.83      0.38      0.53        13\n",
      "           1       0.77      0.83      0.80        12\n",
      "           2       0.84      0.89      0.87        84\n",
      "           3       0.97      0.97      0.97       237\n",
      "\n",
      "    accuracy                           0.93       346\n",
      "   macro avg       0.85      0.77      0.79       346\n",
      "weighted avg       0.93      0.93      0.92       346\n",
      "\n"
     ]
    }
   ],
   "source": [
    "print(classification_report(Y_test, preds_knn))"
   ]
  },
  {
   "cell_type": "markdown",
   "id": "f15f04ac",
   "metadata": {
    "papermill": {
     "duration": 0.01291,
     "end_time": "2024-10-18T20:18:36.175643",
     "exception": false,
     "start_time": "2024-10-18T20:18:36.162733",
     "status": "completed"
    },
    "tags": []
   },
   "source": [
    "# SVM"
   ]
  },
  {
   "cell_type": "code",
   "execution_count": 23,
   "id": "07e57e42",
   "metadata": {
    "execution": {
     "iopub.execute_input": "2024-10-18T20:18:36.204197Z",
     "iopub.status.busy": "2024-10-18T20:18:36.203755Z",
     "iopub.status.idle": "2024-10-18T20:20:05.624022Z",
     "shell.execute_reply": "2024-10-18T20:20:05.622850Z"
    },
    "papermill": {
     "duration": 89.450795,
     "end_time": "2024-10-18T20:20:05.639879",
     "exception": false,
     "start_time": "2024-10-18T20:18:36.189084",
     "status": "completed"
    },
    "tags": []
   },
   "outputs": [
    {
     "data": {
      "text/plain": [
       "0.994940084070519"
      ]
     },
     "execution_count": 23,
     "metadata": {},
     "output_type": "execute_result"
    }
   ],
   "source": [
    "from sklearn.svm import SVC\n",
    "\n",
    "line_param = np.linspace(1, 20, 100)\n",
    "parameters = {'kernel':('linear', \"poly\", \"sigmoid\"), 'C':line_param}\n",
    "SVC()\n",
    "model = SVC()\n",
    "grid_search_svm = GridSearchCV(estimator=model, param_grid=parameters, cv = 6)\n",
    "grid_search_svm.fit(X_train, Y_train)\n",
    "grid_search_svm.best_score_"
   ]
  },
  {
   "cell_type": "code",
   "execution_count": 24,
   "id": "1c398f57",
   "metadata": {
    "execution": {
     "iopub.execute_input": "2024-10-18T20:20:05.669035Z",
     "iopub.status.busy": "2024-10-18T20:20:05.668242Z",
     "iopub.status.idle": "2024-10-18T20:20:05.676965Z",
     "shell.execute_reply": "2024-10-18T20:20:05.675848Z"
    },
    "papermill": {
     "duration": 0.02621,
     "end_time": "2024-10-18T20:20:05.679503",
     "exception": false,
     "start_time": "2024-10-18T20:20:05.653293",
     "status": "completed"
    },
    "tags": []
   },
   "outputs": [
    {
     "data": {
      "text/html": [
       "<style>#sk-container-id-3 {color: black;background-color: white;}#sk-container-id-3 pre{padding: 0;}#sk-container-id-3 div.sk-toggleable {background-color: white;}#sk-container-id-3 label.sk-toggleable__label {cursor: pointer;display: block;width: 100%;margin-bottom: 0;padding: 0.3em;box-sizing: border-box;text-align: center;}#sk-container-id-3 label.sk-toggleable__label-arrow:before {content: \"▸\";float: left;margin-right: 0.25em;color: #696969;}#sk-container-id-3 label.sk-toggleable__label-arrow:hover:before {color: black;}#sk-container-id-3 div.sk-estimator:hover label.sk-toggleable__label-arrow:before {color: black;}#sk-container-id-3 div.sk-toggleable__content {max-height: 0;max-width: 0;overflow: hidden;text-align: left;background-color: #f0f8ff;}#sk-container-id-3 div.sk-toggleable__content pre {margin: 0.2em;color: black;border-radius: 0.25em;background-color: #f0f8ff;}#sk-container-id-3 input.sk-toggleable__control:checked~div.sk-toggleable__content {max-height: 200px;max-width: 100%;overflow: auto;}#sk-container-id-3 input.sk-toggleable__control:checked~label.sk-toggleable__label-arrow:before {content: \"▾\";}#sk-container-id-3 div.sk-estimator input.sk-toggleable__control:checked~label.sk-toggleable__label {background-color: #d4ebff;}#sk-container-id-3 div.sk-label input.sk-toggleable__control:checked~label.sk-toggleable__label {background-color: #d4ebff;}#sk-container-id-3 input.sk-hidden--visually {border: 0;clip: rect(1px 1px 1px 1px);clip: rect(1px, 1px, 1px, 1px);height: 1px;margin: -1px;overflow: hidden;padding: 0;position: absolute;width: 1px;}#sk-container-id-3 div.sk-estimator {font-family: monospace;background-color: #f0f8ff;border: 1px dotted black;border-radius: 0.25em;box-sizing: border-box;margin-bottom: 0.5em;}#sk-container-id-3 div.sk-estimator:hover {background-color: #d4ebff;}#sk-container-id-3 div.sk-parallel-item::after {content: \"\";width: 100%;border-bottom: 1px solid gray;flex-grow: 1;}#sk-container-id-3 div.sk-label:hover label.sk-toggleable__label {background-color: #d4ebff;}#sk-container-id-3 div.sk-serial::before {content: \"\";position: absolute;border-left: 1px solid gray;box-sizing: border-box;top: 0;bottom: 0;left: 50%;z-index: 0;}#sk-container-id-3 div.sk-serial {display: flex;flex-direction: column;align-items: center;background-color: white;padding-right: 0.2em;padding-left: 0.2em;position: relative;}#sk-container-id-3 div.sk-item {position: relative;z-index: 1;}#sk-container-id-3 div.sk-parallel {display: flex;align-items: stretch;justify-content: center;background-color: white;position: relative;}#sk-container-id-3 div.sk-item::before, #sk-container-id-3 div.sk-parallel-item::before {content: \"\";position: absolute;border-left: 1px solid gray;box-sizing: border-box;top: 0;bottom: 0;left: 50%;z-index: -1;}#sk-container-id-3 div.sk-parallel-item {display: flex;flex-direction: column;z-index: 1;position: relative;background-color: white;}#sk-container-id-3 div.sk-parallel-item:first-child::after {align-self: flex-end;width: 50%;}#sk-container-id-3 div.sk-parallel-item:last-child::after {align-self: flex-start;width: 50%;}#sk-container-id-3 div.sk-parallel-item:only-child::after {width: 0;}#sk-container-id-3 div.sk-dashed-wrapped {border: 1px dashed gray;margin: 0 0.4em 0.5em 0.4em;box-sizing: border-box;padding-bottom: 0.4em;background-color: white;}#sk-container-id-3 div.sk-label label {font-family: monospace;font-weight: bold;display: inline-block;line-height: 1.2em;}#sk-container-id-3 div.sk-label-container {text-align: center;}#sk-container-id-3 div.sk-container {/* jupyter's `normalize.less` sets `[hidden] { display: none; }` but bootstrap.min.css set `[hidden] { display: none !important; }` so we also need the `!important` here to be able to override the default hidden behavior on the sphinx rendered scikit-learn.org. See: https://github.com/scikit-learn/scikit-learn/issues/21755 */display: inline-block !important;position: relative;}#sk-container-id-3 div.sk-text-repr-fallback {display: none;}</style><div id=\"sk-container-id-3\" class=\"sk-top-container\"><div class=\"sk-text-repr-fallback\"><pre>SVC(C=1.9595959595959596, kernel=&#x27;poly&#x27;)</pre><b>In a Jupyter environment, please rerun this cell to show the HTML representation or trust the notebook. <br />On GitHub, the HTML representation is unable to render, please try loading this page with nbviewer.org.</b></div><div class=\"sk-container\" hidden><div class=\"sk-item\"><div class=\"sk-estimator sk-toggleable\"><input class=\"sk-toggleable__control sk-hidden--visually\" id=\"sk-estimator-id-5\" type=\"checkbox\" checked><label for=\"sk-estimator-id-5\" class=\"sk-toggleable__label sk-toggleable__label-arrow\">SVC</label><div class=\"sk-toggleable__content\"><pre>SVC(C=1.9595959595959596, kernel=&#x27;poly&#x27;)</pre></div></div></div></div></div>"
      ],
      "text/plain": [
       "SVC(C=1.9595959595959596, kernel='poly')"
      ]
     },
     "execution_count": 24,
     "metadata": {},
     "output_type": "execute_result"
    }
   ],
   "source": [
    "grid_search_svm.best_estimator_"
   ]
  },
  {
   "cell_type": "code",
   "execution_count": 25,
   "id": "3467586a",
   "metadata": {
    "execution": {
     "iopub.execute_input": "2024-10-18T20:20:05.709575Z",
     "iopub.status.busy": "2024-10-18T20:20:05.708510Z",
     "iopub.status.idle": "2024-10-18T20:20:05.732207Z",
     "shell.execute_reply": "2024-10-18T20:20:05.730964Z"
    },
    "papermill": {
     "duration": 0.041456,
     "end_time": "2024-10-18T20:20:05.734845",
     "exception": false,
     "start_time": "2024-10-18T20:20:05.693389",
     "status": "completed"
    },
    "tags": []
   },
   "outputs": [
    {
     "name": "stdout",
     "output_type": "stream",
     "text": [
      "              precision    recall  f1-score   support\n",
      "\n",
      "        good       0.93      1.00      0.96        13\n",
      "       vgood       1.00      1.00      1.00        12\n",
      "         acc       1.00      0.99      0.99        84\n",
      "       unacc       1.00      1.00      1.00       237\n",
      "\n",
      "    accuracy                           1.00       346\n",
      "   macro avg       0.98      1.00      0.99       346\n",
      "weighted avg       1.00      1.00      1.00       346\n",
      "\n"
     ]
    }
   ],
   "source": [
    "preds_svm = grid_search_svm.predict(X_test)\n",
    "print(classification_report(Y_test, preds_svm, target_names = unique_targets))"
   ]
  },
  {
   "cell_type": "code",
   "execution_count": 26,
   "id": "4a86e0df",
   "metadata": {
    "execution": {
     "iopub.execute_input": "2024-10-18T20:20:05.765341Z",
     "iopub.status.busy": "2024-10-18T20:20:05.764415Z",
     "iopub.status.idle": "2024-10-18T20:20:05.774373Z",
     "shell.execute_reply": "2024-10-18T20:20:05.773176Z"
    },
    "papermill": {
     "duration": 0.027975,
     "end_time": "2024-10-18T20:20:05.776882",
     "exception": false,
     "start_time": "2024-10-18T20:20:05.748907",
     "status": "completed"
    },
    "tags": []
   },
   "outputs": [
    {
     "data": {
      "text/plain": [
       "array([[ 13,   0,   0,   0],\n",
       "       [  0,  12,   0,   0],\n",
       "       [  1,   0,  83,   0],\n",
       "       [  0,   0,   0, 237]])"
      ]
     },
     "execution_count": 26,
     "metadata": {},
     "output_type": "execute_result"
    }
   ],
   "source": [
    "confusion_matrix(Y_test, preds_svm)"
   ]
  }
 ],
 "metadata": {
  "kaggle": {
   "accelerator": "none",
   "dataSources": [
    {
     "datasetId": 3172501,
     "sourceId": 5498151,
     "sourceType": "datasetVersion"
    }
   ],
   "dockerImageVersionId": 30786,
   "isGpuEnabled": false,
   "isInternetEnabled": false,
   "language": "python",
   "sourceType": "notebook"
  },
  "kernelspec": {
   "display_name": "Python 3",
   "language": "python",
   "name": "python3"
  },
  "language_info": {
   "codemirror_mode": {
    "name": "ipython",
    "version": 3
   },
   "file_extension": ".py",
   "mimetype": "text/x-python",
   "name": "python",
   "nbconvert_exporter": "python",
   "pygments_lexer": "ipython3",
   "version": "3.10.14"
  },
  "papermill": {
   "default_parameters": {},
   "duration": 116.157986,
   "end_time": "2024-10-18T20:20:06.514022",
   "environment_variables": {},
   "exception": null,
   "input_path": "__notebook__.ipynb",
   "output_path": "__notebook__.ipynb",
   "parameters": {},
   "start_time": "2024-10-18T20:18:10.356036",
   "version": "2.6.0"
  }
 },
 "nbformat": 4,
 "nbformat_minor": 5
}
