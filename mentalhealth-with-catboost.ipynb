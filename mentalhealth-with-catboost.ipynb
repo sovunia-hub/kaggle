{
 "cells": [
  {
   "cell_type": "code",
   "execution_count": 1,
   "id": "bec1a364",
   "metadata": {
    "_cell_guid": "b1076dfc-b9ad-4769-8c92-a6c4dae69d19",
    "_uuid": "8f2839f25d086af736a60e9eeb907d3b93b6e0e5",
    "execution": {
     "iopub.execute_input": "2024-11-01T19:16:04.024546Z",
     "iopub.status.busy": "2024-11-01T19:16:04.024134Z",
     "iopub.status.idle": "2024-11-01T19:16:04.774362Z",
     "shell.execute_reply": "2024-11-01T19:16:04.773524Z"
    },
    "papermill": {
     "duration": 0.757969,
     "end_time": "2024-11-01T19:16:04.776679",
     "exception": false,
     "start_time": "2024-11-01T19:16:04.018710",
     "status": "completed"
    },
    "tags": []
   },
   "outputs": [
    {
     "name": "stdout",
     "output_type": "stream",
     "text": [
      "/kaggle/input/playground-series-s4e11/sample_submission.csv\n",
      "/kaggle/input/playground-series-s4e11/train.csv\n",
      "/kaggle/input/playground-series-s4e11/test.csv\n"
     ]
    }
   ],
   "source": [
    "# This Python 3 environment comes with many helpful analytics libraries installed\n",
    "# It is defined by the kaggle/python Docker image: https://github.com/kaggle/docker-python\n",
    "# For example, here's several helpful packages to load\n",
    "\n",
    "import numpy as np # linear algebra\n",
    "import pandas as pd # data processing, CSV file I/O (e.g. pd.read_csv)\n",
    "\n",
    "# Input data files are available in the read-only \"../input/\" directory\n",
    "# For example, running this (by clicking run or pressing Shift+Enter) will list all files under the input directory\n",
    "\n",
    "import os\n",
    "for dirname, _, filenames in os.walk('/kaggle/input'):\n",
    "    for filename in filenames:\n",
    "        print(os.path.join(dirname, filename))\n",
    "\n",
    "# You can write up to 20GB to the current directory (/kaggle/working/) that gets preserved as output when you create a version using \"Save & Run All\" \n",
    "# You can also write temporary files to /kaggle/temp/, but they won't be saved outside of the current session"
   ]
  },
  {
   "cell_type": "code",
   "execution_count": 2,
   "id": "779551a3",
   "metadata": {
    "execution": {
     "iopub.execute_input": "2024-11-01T19:16:04.785023Z",
     "iopub.status.busy": "2024-11-01T19:16:04.784674Z",
     "iopub.status.idle": "2024-11-01T19:16:05.686233Z",
     "shell.execute_reply": "2024-11-01T19:16:05.685208Z"
    },
    "papermill": {
     "duration": 0.908174,
     "end_time": "2024-11-01T19:16:05.688535",
     "exception": false,
     "start_time": "2024-11-01T19:16:04.780361",
     "status": "completed"
    },
    "tags": []
   },
   "outputs": [],
   "source": [
    "data_train = pd.read_csv('/kaggle/input/playground-series-s4e11/train.csv')\n",
    "data_test = pd.read_csv('/kaggle/input/playground-series-s4e11/test.csv')\n",
    "sample_submission = pd.read_csv('/kaggle/input/playground-series-s4e11/sample_submission.csv')"
   ]
  },
  {
   "cell_type": "code",
   "execution_count": 3,
   "id": "eefa0144",
   "metadata": {
    "execution": {
     "iopub.execute_input": "2024-11-01T19:16:05.696913Z",
     "iopub.status.busy": "2024-11-01T19:16:05.696603Z",
     "iopub.status.idle": "2024-11-01T19:16:05.727245Z",
     "shell.execute_reply": "2024-11-01T19:16:05.726391Z"
    },
    "papermill": {
     "duration": 0.037066,
     "end_time": "2024-11-01T19:16:05.729347",
     "exception": false,
     "start_time": "2024-11-01T19:16:05.692281",
     "status": "completed"
    },
    "tags": []
   },
   "outputs": [
    {
     "data": {
      "text/html": [
       "<div>\n",
       "<style scoped>\n",
       "    .dataframe tbody tr th:only-of-type {\n",
       "        vertical-align: middle;\n",
       "    }\n",
       "\n",
       "    .dataframe tbody tr th {\n",
       "        vertical-align: top;\n",
       "    }\n",
       "\n",
       "    .dataframe thead th {\n",
       "        text-align: right;\n",
       "    }\n",
       "</style>\n",
       "<table border=\"1\" class=\"dataframe\">\n",
       "  <thead>\n",
       "    <tr style=\"text-align: right;\">\n",
       "      <th></th>\n",
       "      <th>id</th>\n",
       "      <th>Name</th>\n",
       "      <th>Gender</th>\n",
       "      <th>Age</th>\n",
       "      <th>City</th>\n",
       "      <th>Working Professional or Student</th>\n",
       "      <th>Profession</th>\n",
       "      <th>Academic Pressure</th>\n",
       "      <th>Work Pressure</th>\n",
       "      <th>CGPA</th>\n",
       "      <th>Study Satisfaction</th>\n",
       "      <th>Job Satisfaction</th>\n",
       "      <th>Sleep Duration</th>\n",
       "      <th>Dietary Habits</th>\n",
       "      <th>Degree</th>\n",
       "      <th>Have you ever had suicidal thoughts ?</th>\n",
       "      <th>Work/Study Hours</th>\n",
       "      <th>Financial Stress</th>\n",
       "      <th>Family History of Mental Illness</th>\n",
       "      <th>Depression</th>\n",
       "    </tr>\n",
       "  </thead>\n",
       "  <tbody>\n",
       "    <tr>\n",
       "      <th>0</th>\n",
       "      <td>0</td>\n",
       "      <td>Aaradhya</td>\n",
       "      <td>Female</td>\n",
       "      <td>49.0</td>\n",
       "      <td>Ludhiana</td>\n",
       "      <td>Working Professional</td>\n",
       "      <td>Chef</td>\n",
       "      <td>NaN</td>\n",
       "      <td>5.0</td>\n",
       "      <td>NaN</td>\n",
       "      <td>NaN</td>\n",
       "      <td>2.0</td>\n",
       "      <td>More than 8 hours</td>\n",
       "      <td>Healthy</td>\n",
       "      <td>BHM</td>\n",
       "      <td>No</td>\n",
       "      <td>1.0</td>\n",
       "      <td>2.0</td>\n",
       "      <td>No</td>\n",
       "      <td>0</td>\n",
       "    </tr>\n",
       "    <tr>\n",
       "      <th>1</th>\n",
       "      <td>1</td>\n",
       "      <td>Vivan</td>\n",
       "      <td>Male</td>\n",
       "      <td>26.0</td>\n",
       "      <td>Varanasi</td>\n",
       "      <td>Working Professional</td>\n",
       "      <td>Teacher</td>\n",
       "      <td>NaN</td>\n",
       "      <td>4.0</td>\n",
       "      <td>NaN</td>\n",
       "      <td>NaN</td>\n",
       "      <td>3.0</td>\n",
       "      <td>Less than 5 hours</td>\n",
       "      <td>Unhealthy</td>\n",
       "      <td>LLB</td>\n",
       "      <td>Yes</td>\n",
       "      <td>7.0</td>\n",
       "      <td>3.0</td>\n",
       "      <td>No</td>\n",
       "      <td>1</td>\n",
       "    </tr>\n",
       "    <tr>\n",
       "      <th>2</th>\n",
       "      <td>2</td>\n",
       "      <td>Yuvraj</td>\n",
       "      <td>Male</td>\n",
       "      <td>33.0</td>\n",
       "      <td>Visakhapatnam</td>\n",
       "      <td>Student</td>\n",
       "      <td>NaN</td>\n",
       "      <td>5.0</td>\n",
       "      <td>NaN</td>\n",
       "      <td>8.97</td>\n",
       "      <td>2.0</td>\n",
       "      <td>NaN</td>\n",
       "      <td>5-6 hours</td>\n",
       "      <td>Healthy</td>\n",
       "      <td>B.Pharm</td>\n",
       "      <td>Yes</td>\n",
       "      <td>3.0</td>\n",
       "      <td>1.0</td>\n",
       "      <td>No</td>\n",
       "      <td>1</td>\n",
       "    </tr>\n",
       "    <tr>\n",
       "      <th>3</th>\n",
       "      <td>3</td>\n",
       "      <td>Yuvraj</td>\n",
       "      <td>Male</td>\n",
       "      <td>22.0</td>\n",
       "      <td>Mumbai</td>\n",
       "      <td>Working Professional</td>\n",
       "      <td>Teacher</td>\n",
       "      <td>NaN</td>\n",
       "      <td>5.0</td>\n",
       "      <td>NaN</td>\n",
       "      <td>NaN</td>\n",
       "      <td>1.0</td>\n",
       "      <td>Less than 5 hours</td>\n",
       "      <td>Moderate</td>\n",
       "      <td>BBA</td>\n",
       "      <td>Yes</td>\n",
       "      <td>10.0</td>\n",
       "      <td>1.0</td>\n",
       "      <td>Yes</td>\n",
       "      <td>1</td>\n",
       "    </tr>\n",
       "    <tr>\n",
       "      <th>4</th>\n",
       "      <td>4</td>\n",
       "      <td>Rhea</td>\n",
       "      <td>Female</td>\n",
       "      <td>30.0</td>\n",
       "      <td>Kanpur</td>\n",
       "      <td>Working Professional</td>\n",
       "      <td>Business Analyst</td>\n",
       "      <td>NaN</td>\n",
       "      <td>1.0</td>\n",
       "      <td>NaN</td>\n",
       "      <td>NaN</td>\n",
       "      <td>1.0</td>\n",
       "      <td>5-6 hours</td>\n",
       "      <td>Unhealthy</td>\n",
       "      <td>BBA</td>\n",
       "      <td>Yes</td>\n",
       "      <td>9.0</td>\n",
       "      <td>4.0</td>\n",
       "      <td>Yes</td>\n",
       "      <td>0</td>\n",
       "    </tr>\n",
       "  </tbody>\n",
       "</table>\n",
       "</div>"
      ],
      "text/plain": [
       "   id      Name  Gender   Age           City Working Professional or Student  \\\n",
       "0   0  Aaradhya  Female  49.0       Ludhiana            Working Professional   \n",
       "1   1     Vivan    Male  26.0       Varanasi            Working Professional   \n",
       "2   2    Yuvraj    Male  33.0  Visakhapatnam                         Student   \n",
       "3   3    Yuvraj    Male  22.0         Mumbai            Working Professional   \n",
       "4   4      Rhea  Female  30.0         Kanpur            Working Professional   \n",
       "\n",
       "         Profession  Academic Pressure  Work Pressure  CGPA  \\\n",
       "0              Chef                NaN            5.0   NaN   \n",
       "1           Teacher                NaN            4.0   NaN   \n",
       "2               NaN                5.0            NaN  8.97   \n",
       "3           Teacher                NaN            5.0   NaN   \n",
       "4  Business Analyst                NaN            1.0   NaN   \n",
       "\n",
       "   Study Satisfaction  Job Satisfaction     Sleep Duration Dietary Habits  \\\n",
       "0                 NaN               2.0  More than 8 hours        Healthy   \n",
       "1                 NaN               3.0  Less than 5 hours      Unhealthy   \n",
       "2                 2.0               NaN          5-6 hours        Healthy   \n",
       "3                 NaN               1.0  Less than 5 hours       Moderate   \n",
       "4                 NaN               1.0          5-6 hours      Unhealthy   \n",
       "\n",
       "    Degree Have you ever had suicidal thoughts ?  Work/Study Hours  \\\n",
       "0      BHM                                    No               1.0   \n",
       "1      LLB                                   Yes               7.0   \n",
       "2  B.Pharm                                   Yes               3.0   \n",
       "3      BBA                                   Yes              10.0   \n",
       "4      BBA                                   Yes               9.0   \n",
       "\n",
       "   Financial Stress Family History of Mental Illness  Depression  \n",
       "0               2.0                               No           0  \n",
       "1               3.0                               No           1  \n",
       "2               1.0                               No           1  \n",
       "3               1.0                              Yes           1  \n",
       "4               4.0                              Yes           0  "
      ]
     },
     "execution_count": 3,
     "metadata": {},
     "output_type": "execute_result"
    }
   ],
   "source": [
    "data_train.head()"
   ]
  },
  {
   "cell_type": "code",
   "execution_count": 4,
   "id": "6224b3f1",
   "metadata": {
    "execution": {
     "iopub.execute_input": "2024-11-01T19:16:05.738355Z",
     "iopub.status.busy": "2024-11-01T19:16:05.738040Z",
     "iopub.status.idle": "2024-11-01T19:16:05.745226Z",
     "shell.execute_reply": "2024-11-01T19:16:05.744417Z"
    },
    "papermill": {
     "duration": 0.013748,
     "end_time": "2024-11-01T19:16:05.747090",
     "exception": false,
     "start_time": "2024-11-01T19:16:05.733342",
     "status": "completed"
    },
    "tags": []
   },
   "outputs": [
    {
     "data": {
      "text/plain": [
       "id                                         int64\n",
       "Name                                      object\n",
       "Gender                                    object\n",
       "Age                                      float64\n",
       "City                                      object\n",
       "Working Professional or Student           object\n",
       "Profession                                object\n",
       "Academic Pressure                        float64\n",
       "Work Pressure                            float64\n",
       "CGPA                                     float64\n",
       "Study Satisfaction                       float64\n",
       "Job Satisfaction                         float64\n",
       "Sleep Duration                            object\n",
       "Dietary Habits                            object\n",
       "Degree                                    object\n",
       "Have you ever had suicidal thoughts ?     object\n",
       "Work/Study Hours                         float64\n",
       "Financial Stress                         float64\n",
       "Family History of Mental Illness          object\n",
       "Depression                                 int64\n",
       "dtype: object"
      ]
     },
     "execution_count": 4,
     "metadata": {},
     "output_type": "execute_result"
    }
   ],
   "source": [
    "data_train.dtypes"
   ]
  },
  {
   "cell_type": "code",
   "execution_count": 5,
   "id": "7302ee09",
   "metadata": {
    "execution": {
     "iopub.execute_input": "2024-11-01T19:16:05.756029Z",
     "iopub.status.busy": "2024-11-01T19:16:05.755715Z",
     "iopub.status.idle": "2024-11-01T19:16:05.892200Z",
     "shell.execute_reply": "2024-11-01T19:16:05.891241Z"
    },
    "papermill": {
     "duration": 0.143267,
     "end_time": "2024-11-01T19:16:05.894096",
     "exception": false,
     "start_time": "2024-11-01T19:16:05.750829",
     "status": "completed"
    },
    "tags": []
   },
   "outputs": [
    {
     "data": {
      "text/plain": [
       "id                                            0\n",
       "Name                                          0\n",
       "Gender                                        0\n",
       "Age                                           0\n",
       "City                                          0\n",
       "Working Professional or Student               0\n",
       "Profession                                36630\n",
       "Academic Pressure                        112803\n",
       "Work Pressure                             27918\n",
       "CGPA                                     112802\n",
       "Study Satisfaction                       112803\n",
       "Job Satisfaction                          27910\n",
       "Sleep Duration                                0\n",
       "Dietary Habits                                4\n",
       "Degree                                        2\n",
       "Have you ever had suicidal thoughts ?         0\n",
       "Work/Study Hours                              0\n",
       "Financial Stress                              4\n",
       "Family History of Mental Illness              0\n",
       "Depression                                    0\n",
       "dtype: int64"
      ]
     },
     "execution_count": 5,
     "metadata": {},
     "output_type": "execute_result"
    }
   ],
   "source": [
    "data_train.isna().sum()"
   ]
  },
  {
   "cell_type": "code",
   "execution_count": 6,
   "id": "18ed6643",
   "metadata": {
    "execution": {
     "iopub.execute_input": "2024-11-01T19:16:05.903060Z",
     "iopub.status.busy": "2024-11-01T19:16:05.902807Z",
     "iopub.status.idle": "2024-11-01T19:16:06.212037Z",
     "shell.execute_reply": "2024-11-01T19:16:06.211003Z"
    },
    "papermill": {
     "duration": 0.315987,
     "end_time": "2024-11-01T19:16:06.214031",
     "exception": false,
     "start_time": "2024-11-01T19:16:05.898044",
     "status": "completed"
    },
    "tags": []
   },
   "outputs": [
    {
     "data": {
      "text/plain": [
       "<Axes: >"
      ]
     },
     "execution_count": 6,
     "metadata": {},
     "output_type": "execute_result"
    },
    {
     "data": {
      "image/png": "[encoded data removed]",
      "text/plain": [
       "<Figure size 640x480 with 1 Axes>"
      ]
     },
     "metadata": {},
     "output_type": "display_data"
    }
   ],
   "source": [
    "data_train.Depression.hist()"
   ]
  },
  {
   "cell_type": "code",
   "execution_count": 7,
   "id": "9fa92238",
   "metadata": {
    "execution": {
     "iopub.execute_input": "2024-11-01T19:16:06.225400Z",
     "iopub.status.busy": "2024-11-01T19:16:06.225083Z",
     "iopub.status.idle": "2024-11-01T19:16:06.480998Z",
     "shell.execute_reply": "2024-11-01T19:16:06.480227Z"
    },
    "papermill": {
     "duration": 0.264923,
     "end_time": "2024-11-01T19:16:06.483518",
     "exception": false,
     "start_time": "2024-11-01T19:16:06.218595",
     "status": "completed"
    },
    "tags": []
   },
   "outputs": [],
   "source": [
    "data_train[data_train.select_dtypes(exclude=['object']).columns] = data_train.select_dtypes(exclude=['object']).fillna(0)\n",
    "data_train[data_train.select_dtypes(include=['object']).columns] = data_train.select_dtypes(include=['object']).fillna('None')\n",
    "\n",
    "X = data_train.drop(['id', 'Name', 'Depression'], axis=1)\n",
    "y = data_train.Depression"
   ]
  },
  {
   "cell_type": "code",
   "execution_count": 8,
   "id": "65616338",
   "metadata": {
    "execution": {
     "iopub.execute_input": "2024-11-01T19:16:06.494317Z",
     "iopub.status.busy": "2024-11-01T19:16:06.493753Z",
     "iopub.status.idle": "2024-11-01T19:16:08.469251Z",
     "shell.execute_reply": "2024-11-01T19:16:08.468255Z"
    },
    "papermill": {
     "duration": 1.983659,
     "end_time": "2024-11-01T19:16:08.471730",
     "exception": false,
     "start_time": "2024-11-01T19:16:06.488071",
     "status": "completed"
    },
    "tags": []
   },
   "outputs": [],
   "source": [
    "from sklearn.model_selection import train_test_split\n",
    "from catboost import Pool\n",
    "\n",
    "X_train, X_val, y_train, y_val = train_test_split(X, y, test_size=0.2, shuffle=True, random_state=123)\n",
    "\n",
    "train_pool = Pool(X_train, y_train, cat_features=X_train.select_dtypes(include=['object']).columns.values)\n",
    "\n",
    "val_pool = Pool(X_val, y_val, cat_features=X_train.select_dtypes(include=['object']).columns.values)"
   ]
  },
  {
   "cell_type": "code",
   "execution_count": 9,
   "id": "1387f15c",
   "metadata": {
    "execution": {
     "iopub.execute_input": "2024-11-01T19:16:08.483000Z",
     "iopub.status.busy": "2024-11-01T19:16:08.482576Z",
     "iopub.status.idle": "2024-11-01T19:35:14.266840Z",
     "shell.execute_reply": "2024-11-01T19:35:14.265988Z"
    },
    "papermill": {
     "duration": 1145.800522,
     "end_time": "2024-11-01T19:35:14.277454",
     "exception": false,
     "start_time": "2024-11-01T19:16:08.476932",
     "status": "completed"
    },
    "tags": []
   },
   "outputs": [
    {
     "name": "stderr",
     "output_type": "stream",
     "text": [
      "[I 2024-11-01 19:16:08,622] A new study created in memory with name: no-name-1c7f0dae-961e-438c-897d-6d087b624d6d\n",
      "[I 2024-11-01 19:16:16,965] Trial 0 finished with value: 0.973253645406349 and parameters: {'learning_rate': 0.07268222670380756, 'depth': 5, 'l2_leaf_reg': 3.041663082077828, 'boosting_type': 'Plain'}. Best is trial 0 with value: 0.973253645406349.\n",
      "[I 2024-11-01 19:18:59,086] Trial 1 finished with value: 0.973305141992673 and parameters: {'learning_rate': 0.04807958141120149, 'depth': 10, 'l2_leaf_reg': 7.1634676472637695, 'boosting_type': 'Ordered'}. Best is trial 1 with value: 0.973305141992673.\n",
      "[I 2024-11-01 19:19:14,568] Trial 2 finished with value: 0.9732179216254595 and parameters: {'learning_rate': 0.04088602145357825, 'depth': 8, 'l2_leaf_reg': 4.947150202116619, 'boosting_type': 'Plain'}. Best is trial 1 with value: 0.973305141992673.\n",
      "[I 2024-11-01 19:19:21,044] Trial 3 finished with value: 0.9731761228366265 and parameters: {'learning_rate': 0.07641958651588322, 'depth': 4, 'l2_leaf_reg': 2.5790658053274327, 'boosting_type': 'Plain'}. Best is trial 1 with value: 0.973305141992673.\n",
      "[I 2024-11-01 19:19:42,572] Trial 4 finished with value: 0.9728699629426224 and parameters: {'learning_rate': 0.0670960862696189, 'depth': 9, 'l2_leaf_reg': 7.520097923745717, 'boosting_type': 'Plain'}. Best is trial 1 with value: 0.973305141992673.\n",
      "[I 2024-11-01 19:19:50,512] Trial 5 finished with value: 0.9730767353648957 and parameters: {'learning_rate': 0.03906630224678604, 'depth': 5, 'l2_leaf_reg': 3.0543690779106005, 'boosting_type': 'Plain'}. Best is trial 1 with value: 0.973305141992673.\n",
      "[I 2024-11-01 19:20:14,423] Trial 6 finished with value: 0.9728274421591744 and parameters: {'learning_rate': 0.01828944459505677, 'depth': 6, 'l2_leaf_reg': 4.877764869966795, 'boosting_type': 'Ordered'}. Best is trial 1 with value: 0.973305141992673.\n",
      "[I 2024-11-01 19:20:38,288] Trial 7 finished with value: 0.9732838751927128 and parameters: {'learning_rate': 0.03810351006752188, 'depth': 6, 'l2_leaf_reg': 9.040502468054212, 'boosting_type': 'Ordered'}. Best is trial 1 with value: 0.973305141992673.\n",
      "[I 2024-11-01 19:20:43,759] Trial 8 finished with value: 0.9729313709343116 and parameters: {'learning_rate': 0.06615576566129001, 'depth': 3, 'l2_leaf_reg': 3.8555693363828882, 'boosting_type': 'Plain'}. Best is trial 1 with value: 0.973305141992673.\n",
      "[I 2024-11-01 19:20:53,293] Trial 9 finished with value: 0.9730699170015497 and parameters: {'learning_rate': 0.032540982885685604, 'depth': 6, 'l2_leaf_reg': 9.870038070496346, 'boosting_type': 'Plain'}. Best is trial 1 with value: 0.973305141992673.\n",
      "[I 2024-11-01 19:23:43,889] Trial 10 finished with value: 0.9733179157435531 and parameters: {'learning_rate': 0.0985919291330434, 'depth': 10, 'l2_leaf_reg': 6.9819332985716835, 'boosting_type': 'Ordered'}. Best is trial 10 with value: 0.9733179157435531.\n",
      "[I 2024-11-01 19:26:40,706] Trial 11 finished with value: 0.9732879679195834 and parameters: {'learning_rate': 0.09892976403836157, 'depth': 10, 'l2_leaf_reg': 7.1619674797658535, 'boosting_type': 'Ordered'}. Best is trial 10 with value: 0.9733179157435531.\n",
      "[I 2024-11-01 19:29:37,944] Trial 12 finished with value: 0.9732362406367552 and parameters: {'learning_rate': 0.09876601507615168, 'depth': 10, 'l2_leaf_reg': 6.9682209901370165, 'boosting_type': 'Ordered'}. Best is trial 10 with value: 0.9733179157435531.\n",
      "[I 2024-11-01 19:30:34,198] Trial 13 finished with value: 0.9733684041007107 and parameters: {'learning_rate': 0.05288055117437096, 'depth': 8, 'l2_leaf_reg': 1.2657038219753565, 'boosting_type': 'Ordered'}. Best is trial 13 with value: 0.9733684041007107.\n",
      "[I 2024-11-01 19:31:31,347] Trial 14 finished with value: 0.9733232815733542 and parameters: {'learning_rate': 0.08561218139289556, 'depth': 8, 'l2_leaf_reg': 1.326028595768488, 'boosting_type': 'Ordered'}. Best is trial 13 with value: 0.9733684041007107.\n",
      "[I 2024-11-01 19:32:28,108] Trial 15 finished with value: 0.9732778001847691 and parameters: {'learning_rate': 0.05816659110913346, 'depth': 8, 'l2_leaf_reg': 1.1494018395030747, 'boosting_type': 'Ordered'}. Best is trial 13 with value: 0.9733684041007107.\n",
      "[I 2024-11-01 19:33:26,374] Trial 16 finished with value: 0.9732363602571648 and parameters: {'learning_rate': 0.07680942572439672, 'depth': 8, 'l2_leaf_reg': 1.034766856369687, 'boosting_type': 'Ordered'}. Best is trial 13 with value: 0.9733684041007107.\n",
      "[I 2024-11-01 19:34:02,520] Trial 17 finished with value: 0.9733256996144908 and parameters: {'learning_rate': 0.08553078482256174, 'depth': 7, 'l2_leaf_reg': 2.0079643506529656, 'boosting_type': 'Ordered'}. Best is trial 13 with value: 0.9733684041007107.\n",
      "[I 2024-11-01 19:34:37,817] Trial 18 finished with value: 0.9733579885807623 and parameters: {'learning_rate': 0.05600963817594448, 'depth': 7, 'l2_leaf_reg': 2.232713028514982, 'boosting_type': 'Ordered'}. Best is trial 13 with value: 0.9733684041007107.\n",
      "[I 2024-11-01 19:35:14,262] Trial 19 finished with value: 0.9733217179637148 and parameters: {'learning_rate': 0.052261847705954656, 'depth': 7, 'l2_leaf_reg': 4.1075718696295915, 'boosting_type': 'Ordered'}. Best is trial 13 with value: 0.9733684041007107.\n"
     ]
    }
   ],
   "source": [
    "from optuna import create_study\n",
    "from optuna.samplers import TPESampler\n",
    "from catboost.utils import eval_metric\n",
    "from catboost import CatBoostClassifier\n",
    "\n",
    "\n",
    "def objective(trial):\n",
    "  params = {\n",
    "      'learning_rate': trial.suggest_float('learning_rate', 0.01, 0.1),\n",
    "      'depth': trial.suggest_int('depth', 3, 10),\n",
    "      'l2_leaf_reg': trial.suggest_float('l2_leaf_reg', 1, 10),\n",
    "      'boosting_type': trial.suggest_categorical('boosting_type', ['Ordered', 'Plain'])\n",
    "      }\n",
    "\n",
    "  model = CatBoostClassifier(**params, random_seed=42, task_type='GPU', verbose=0, iterations = 400)\n",
    "  model.fit(train_pool, eval_set=val_pool)\n",
    "  y_pred = model.predict_proba(val_pool)\n",
    "  return eval_metric(val_pool.get_label(), y_pred[:, 1], 'AUC')\n",
    "\n",
    "sampler = TPESampler(seed=123)\n",
    "study = create_study(direction='maximize', sampler=sampler)\n",
    "study.optimize(objective, n_trials=20)"
   ]
  }
 ],
 "metadata": {
  "kaggle": {
   "accelerator": "nvidiaTeslaT4",
   "dataSources": [
    {
     "databundleVersionId": 10008389,
     "sourceId": 84895,
     "sourceType": "competition"
    }
   ],
   "dockerImageVersionId": 30786,
   "isGpuEnabled": true,
   "isInternetEnabled": true,
   "language": "python",
   "sourceType": "notebook"
  },
  "kernelspec": {
   "display_name": "Python 3",
   "language": "python",
   "name": "python3"
  },
  "language_info": {
   "codemirror_mode": {
    "name": "ipython",
    "version": 3
   },
   "file_extension": ".py",
   "mimetype": "text/x-python",
   "name": "python",
   "nbconvert_exporter": "python",
   "pygments_lexer": "ipython3",
   "version": "3.10.14"
  },
  "papermill": {
   "default_parameters": {},
   "duration": 1153.592217,
   "end_time": "2024-11-01T19:35:14.908746",
   "environment_variables": {},
   "exception": null,
   "input_path": "__notebook__.ipynb",
   "output_path": "__notebook__.ipynb",
   "parameters": {},
   "start_time": "2024-11-01T19:16:01.316529",
   "version": "2.6.0"
  }
 },
 "nbformat": 4,
 "nbformat_minor": 5
}
